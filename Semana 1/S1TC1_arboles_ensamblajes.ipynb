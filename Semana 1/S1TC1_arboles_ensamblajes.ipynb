{
  "cells": [
    {
      "cell_type": "markdown",
      "metadata": {
        "id": "caX7W-XUo1TC"
      },
      "source": [
        "![image info](https://raw.githubusercontent.com/albahnsen/MIAD_ML_and_NLP/main/images/banner_1.png)"
      ]
    },
    {
      "cell_type": "markdown",
      "metadata": {
        "id": "kGkI11QNo1Ta"
      },
      "source": [
        "# Taller: Construcción e implementación de árboles de decisión y métodos de ensamblaje\n",
        "\n",
        "En este taller podrá poner en práctica los sus conocimientos sobre construcción e implementación de árboles de decisión y métodos de ensamblajes. El taller está constituido por 9 puntos, 5 relacionados con árboles de decisión (parte A) y 4 con métodos de ensamblaje (parte B)."
      ]
    },
    {
      "cell_type": "markdown",
      "metadata": {
        "id": "tj2S_DnAo1Tf"
      },
      "source": [
        "## Parte A - Árboles de decisión\n",
        "\n",
        "En esta parte del taller se usará el conjunto de datos de Capital Bikeshare de Kaggle, donde cada observación representa el alquiler de una bicicleta durante una hora y día determinado. Para más detalles puede visitar los siguientes enlaces: [datos](https://github.com/justmarkham/DAT8/blob/master/data/bikeshare.csv), [dicccionario de datos](https://www.kaggle.com/c/bike-sharing-demand/data)."
      ]
    },
    {
      "cell_type": "markdown",
      "metadata": {
        "id": "beN-6Pv6o1Tk"
      },
      "source": [
        "### Datos prestamo de bicicletas"
      ]
    },
    {
      "cell_type": "code",
      "execution_count": null,
      "metadata": {
        "id": "HkyHEnQKo1Tn"
      },
      "outputs": [],
      "source": [
        "import warnings\n",
        "warnings.filterwarnings('ignore')"
      ]
    },
    {
      "cell_type": "code",
      "execution_count": null,
      "metadata": {
        "id": "3LsBr8dso1Tu"
      },
      "outputs": [],
      "source": [
        "# Importación de librerías\n",
        "%matplotlib inline\n",
        "import pandas as pd\n",
        "import numpy as np\n",
        "import matplotlib.pyplot as plt\n",
        "from sklearn.model_selection import train_test_split\n",
        "from sklearn.model_selection import cross_val_score\n",
        "from sklearn.linear_model import LinearRegression\n",
        "from sklearn.linear_model import LogisticRegression\n",
        "from sklearn.tree import DecisionTreeRegressor, export_graphviz\n",
        "from sklearn.tree import DecisionTreeClassifier\n",
        "from sklearn.ensemble import BaggingClassifier\n",
        "from sklearn import metrics"
      ]
    },
    {
      "cell_type": "code",
      "execution_count": null,
      "metadata": {
        "id": "vRVs2t9Go1Ty",
        "colab": {
          "base_uri": "https://localhost:8080/",
          "height": 238
        },
        "outputId": "599f5c91-a077-45ee-9da9-1b53fa9c21b8"
      },
      "outputs": [
        {
          "output_type": "execute_result",
          "data": {
            "text/plain": [
              "                     season  holiday  workingday  weather  temp   atemp  \\\n",
              "datetime                                                                  \n",
              "2011-01-01 00:00:00       1        0           0        1  9.84  14.395   \n",
              "2011-01-01 01:00:00       1        0           0        1  9.02  13.635   \n",
              "2011-01-01 02:00:00       1        0           0        1  9.02  13.635   \n",
              "2011-01-01 03:00:00       1        0           0        1  9.84  14.395   \n",
              "2011-01-01 04:00:00       1        0           0        1  9.84  14.395   \n",
              "\n",
              "                     humidity  windspeed  casual  registered  total  hour  \n",
              "datetime                                                                   \n",
              "2011-01-01 00:00:00        81        0.0       3          13     16     0  \n",
              "2011-01-01 01:00:00        80        0.0       8          32     40     1  \n",
              "2011-01-01 02:00:00        80        0.0       5          27     32     2  \n",
              "2011-01-01 03:00:00        75        0.0       3          10     13     3  \n",
              "2011-01-01 04:00:00        75        0.0       0           1      1     4  "
            ],
            "text/html": [
              "\n",
              "  <div id=\"df-54923095-7a0a-4e4b-88f6-c3120876e001\">\n",
              "    <div class=\"colab-df-container\">\n",
              "      <div>\n",
              "<style scoped>\n",
              "    .dataframe tbody tr th:only-of-type {\n",
              "        vertical-align: middle;\n",
              "    }\n",
              "\n",
              "    .dataframe tbody tr th {\n",
              "        vertical-align: top;\n",
              "    }\n",
              "\n",
              "    .dataframe thead th {\n",
              "        text-align: right;\n",
              "    }\n",
              "</style>\n",
              "<table border=\"1\" class=\"dataframe\">\n",
              "  <thead>\n",
              "    <tr style=\"text-align: right;\">\n",
              "      <th></th>\n",
              "      <th>season</th>\n",
              "      <th>holiday</th>\n",
              "      <th>workingday</th>\n",
              "      <th>weather</th>\n",
              "      <th>temp</th>\n",
              "      <th>atemp</th>\n",
              "      <th>humidity</th>\n",
              "      <th>windspeed</th>\n",
              "      <th>casual</th>\n",
              "      <th>registered</th>\n",
              "      <th>total</th>\n",
              "      <th>hour</th>\n",
              "    </tr>\n",
              "    <tr>\n",
              "      <th>datetime</th>\n",
              "      <th></th>\n",
              "      <th></th>\n",
              "      <th></th>\n",
              "      <th></th>\n",
              "      <th></th>\n",
              "      <th></th>\n",
              "      <th></th>\n",
              "      <th></th>\n",
              "      <th></th>\n",
              "      <th></th>\n",
              "      <th></th>\n",
              "      <th></th>\n",
              "    </tr>\n",
              "  </thead>\n",
              "  <tbody>\n",
              "    <tr>\n",
              "      <th>2011-01-01 00:00:00</th>\n",
              "      <td>1</td>\n",
              "      <td>0</td>\n",
              "      <td>0</td>\n",
              "      <td>1</td>\n",
              "      <td>9.84</td>\n",
              "      <td>14.395</td>\n",
              "      <td>81</td>\n",
              "      <td>0.0</td>\n",
              "      <td>3</td>\n",
              "      <td>13</td>\n",
              "      <td>16</td>\n",
              "      <td>0</td>\n",
              "    </tr>\n",
              "    <tr>\n",
              "      <th>2011-01-01 01:00:00</th>\n",
              "      <td>1</td>\n",
              "      <td>0</td>\n",
              "      <td>0</td>\n",
              "      <td>1</td>\n",
              "      <td>9.02</td>\n",
              "      <td>13.635</td>\n",
              "      <td>80</td>\n",
              "      <td>0.0</td>\n",
              "      <td>8</td>\n",
              "      <td>32</td>\n",
              "      <td>40</td>\n",
              "      <td>1</td>\n",
              "    </tr>\n",
              "    <tr>\n",
              "      <th>2011-01-01 02:00:00</th>\n",
              "      <td>1</td>\n",
              "      <td>0</td>\n",
              "      <td>0</td>\n",
              "      <td>1</td>\n",
              "      <td>9.02</td>\n",
              "      <td>13.635</td>\n",
              "      <td>80</td>\n",
              "      <td>0.0</td>\n",
              "      <td>5</td>\n",
              "      <td>27</td>\n",
              "      <td>32</td>\n",
              "      <td>2</td>\n",
              "    </tr>\n",
              "    <tr>\n",
              "      <th>2011-01-01 03:00:00</th>\n",
              "      <td>1</td>\n",
              "      <td>0</td>\n",
              "      <td>0</td>\n",
              "      <td>1</td>\n",
              "      <td>9.84</td>\n",
              "      <td>14.395</td>\n",
              "      <td>75</td>\n",
              "      <td>0.0</td>\n",
              "      <td>3</td>\n",
              "      <td>10</td>\n",
              "      <td>13</td>\n",
              "      <td>3</td>\n",
              "    </tr>\n",
              "    <tr>\n",
              "      <th>2011-01-01 04:00:00</th>\n",
              "      <td>1</td>\n",
              "      <td>0</td>\n",
              "      <td>0</td>\n",
              "      <td>1</td>\n",
              "      <td>9.84</td>\n",
              "      <td>14.395</td>\n",
              "      <td>75</td>\n",
              "      <td>0.0</td>\n",
              "      <td>0</td>\n",
              "      <td>1</td>\n",
              "      <td>1</td>\n",
              "      <td>4</td>\n",
              "    </tr>\n",
              "  </tbody>\n",
              "</table>\n",
              "</div>\n",
              "      <button class=\"colab-df-convert\" onclick=\"convertToInteractive('df-54923095-7a0a-4e4b-88f6-c3120876e001')\"\n",
              "              title=\"Convert this dataframe to an interactive table.\"\n",
              "              style=\"display:none;\">\n",
              "        \n",
              "  <svg xmlns=\"http://www.w3.org/2000/svg\" height=\"24px\"viewBox=\"0 0 24 24\"\n",
              "       width=\"24px\">\n",
              "    <path d=\"M0 0h24v24H0V0z\" fill=\"none\"/>\n",
              "    <path d=\"M18.56 5.44l.94 2.06.94-2.06 2.06-.94-2.06-.94-.94-2.06-.94 2.06-2.06.94zm-11 1L8.5 8.5l.94-2.06 2.06-.94-2.06-.94L8.5 2.5l-.94 2.06-2.06.94zm10 10l.94 2.06.94-2.06 2.06-.94-2.06-.94-.94-2.06-.94 2.06-2.06.94z\"/><path d=\"M17.41 7.96l-1.37-1.37c-.4-.4-.92-.59-1.43-.59-.52 0-1.04.2-1.43.59L10.3 9.45l-7.72 7.72c-.78.78-.78 2.05 0 2.83L4 21.41c.39.39.9.59 1.41.59.51 0 1.02-.2 1.41-.59l7.78-7.78 2.81-2.81c.8-.78.8-2.07 0-2.86zM5.41 20L4 18.59l7.72-7.72 1.47 1.35L5.41 20z\"/>\n",
              "  </svg>\n",
              "      </button>\n",
              "      \n",
              "  <style>\n",
              "    .colab-df-container {\n",
              "      display:flex;\n",
              "      flex-wrap:wrap;\n",
              "      gap: 12px;\n",
              "    }\n",
              "\n",
              "    .colab-df-convert {\n",
              "      background-color: #E8F0FE;\n",
              "      border: none;\n",
              "      border-radius: 50%;\n",
              "      cursor: pointer;\n",
              "      display: none;\n",
              "      fill: #1967D2;\n",
              "      height: 32px;\n",
              "      padding: 0 0 0 0;\n",
              "      width: 32px;\n",
              "    }\n",
              "\n",
              "    .colab-df-convert:hover {\n",
              "      background-color: #E2EBFA;\n",
              "      box-shadow: 0px 1px 2px rgba(60, 64, 67, 0.3), 0px 1px 3px 1px rgba(60, 64, 67, 0.15);\n",
              "      fill: #174EA6;\n",
              "    }\n",
              "\n",
              "    [theme=dark] .colab-df-convert {\n",
              "      background-color: #3B4455;\n",
              "      fill: #D2E3FC;\n",
              "    }\n",
              "\n",
              "    [theme=dark] .colab-df-convert:hover {\n",
              "      background-color: #434B5C;\n",
              "      box-shadow: 0px 1px 3px 1px rgba(0, 0, 0, 0.15);\n",
              "      filter: drop-shadow(0px 1px 2px rgba(0, 0, 0, 0.3));\n",
              "      fill: #FFFFFF;\n",
              "    }\n",
              "  </style>\n",
              "\n",
              "      <script>\n",
              "        const buttonEl =\n",
              "          document.querySelector('#df-54923095-7a0a-4e4b-88f6-c3120876e001 button.colab-df-convert');\n",
              "        buttonEl.style.display =\n",
              "          google.colab.kernel.accessAllowed ? 'block' : 'none';\n",
              "\n",
              "        async function convertToInteractive(key) {\n",
              "          const element = document.querySelector('#df-54923095-7a0a-4e4b-88f6-c3120876e001');\n",
              "          const dataTable =\n",
              "            await google.colab.kernel.invokeFunction('convertToInteractive',\n",
              "                                                     [key], {});\n",
              "          if (!dataTable) return;\n",
              "\n",
              "          const docLinkHtml = 'Like what you see? Visit the ' +\n",
              "            '<a target=\"_blank\" href=https://colab.research.google.com/notebooks/data_table.ipynb>data table notebook</a>'\n",
              "            + ' to learn more about interactive tables.';\n",
              "          element.innerHTML = '';\n",
              "          dataTable['output_type'] = 'display_data';\n",
              "          await google.colab.output.renderOutput(dataTable, element);\n",
              "          const docLink = document.createElement('div');\n",
              "          docLink.innerHTML = docLinkHtml;\n",
              "          element.appendChild(docLink);\n",
              "        }\n",
              "      </script>\n",
              "    </div>\n",
              "  </div>\n",
              "  "
            ]
          },
          "metadata": {},
          "execution_count": 3
        }
      ],
      "source": [
        "# Lectura de la información de archivo .csv\n",
        "bikes = pd.read_csv('https://raw.githubusercontent.com/albahnsen/MIAD_ML_and_NLP/main/datasets/bikeshare.csv', index_col='datetime', parse_dates=True)\n",
        "# Renombrar variable \"count\" a \"total\"\n",
        "bikes.rename(columns={'count':'total'}, inplace=True)\n",
        "# Crear la hora como una variable \n",
        "bikes['hour'] = bikes.index.hour\n",
        "# Visualización\n",
        "bikes.head()"
      ]
    },
    {
      "cell_type": "markdown",
      "metadata": {
        "id": "qkbxBkgno1T3"
      },
      "source": [
        "### Punto 1 - Análisis descriptivo\n",
        "\n",
        "Ejecute las celdas 1.1 y 1.2. A partir de los resultados realice un análisis descriptivo sobre las variables hour y workingday, escriba sus inferencias sobre los datos. Para complementar su análisis puede usar métricas como máximo, mínimo, percentiles entre otros."
      ]
    },
    {
      "cell_type": "code",
      "execution_count": null,
      "metadata": {
        "id": "FtNLHUuqo1T8",
        "colab": {
          "base_uri": "https://localhost:8080/"
        },
        "outputId": "224c0578-3eaa-45b4-9550-fd86faed6527"
      },
      "outputs": [
        {
          "output_type": "execute_result",
          "data": {
            "text/plain": [
              "workingday\n",
              "0    188.506621\n",
              "1    193.011873\n",
              "Name: total, dtype: float64"
            ]
          },
          "metadata": {},
          "execution_count": 4
        }
      ],
      "source": [
        "# Celda 1.1\n",
        "bikes.groupby('workingday').total.mean()"
      ]
    },
    {
      "cell_type": "code",
      "execution_count": null,
      "metadata": {
        "scrolled": true,
        "id": "QGh9VCuOo1UC",
        "colab": {
          "base_uri": "https://localhost:8080/"
        },
        "outputId": "96843308-ac33-4770-b64f-5974cdd791c4"
      },
      "outputs": [
        {
          "output_type": "execute_result",
          "data": {
            "text/plain": [
              "hour\n",
              "0      55.138462\n",
              "1      33.859031\n",
              "2      22.899554\n",
              "3      11.757506\n",
              "4       6.407240\n",
              "5      19.767699\n",
              "6      76.259341\n",
              "7     213.116484\n",
              "8     362.769231\n",
              "9     221.780220\n",
              "10    175.092308\n",
              "11    210.674725\n",
              "12    256.508772\n",
              "13    257.787281\n",
              "14    243.442982\n",
              "15    254.298246\n",
              "16    316.372807\n",
              "17    468.765351\n",
              "18    430.859649\n",
              "19    315.278509\n",
              "20    228.517544\n",
              "21    173.370614\n",
              "22    133.576754\n",
              "23     89.508772\n",
              "Name: total, dtype: float64"
            ]
          },
          "metadata": {},
          "execution_count": 5
        }
      ],
      "source": [
        "# Celda 1.2\n",
        "bikes.groupby('hour').total.mean()"
      ]
    },
    {
      "cell_type": "code",
      "source": [
        "# Describe las variables del dataframe\n",
        "bikes[['total', 'hour','workingday']].describe()"
      ],
      "metadata": {
        "colab": {
          "base_uri": "https://localhost:8080/",
          "height": 300
        },
        "id": "SyJlzyzp7StU",
        "outputId": "d6c72769-afbd-4386-aebb-1b5cfa32858a"
      },
      "execution_count": null,
      "outputs": [
        {
          "output_type": "execute_result",
          "data": {
            "text/plain": [
              "              total          hour    workingday\n",
              "count  10886.000000  10886.000000  10886.000000\n",
              "mean     191.574132     11.541613      0.680875\n",
              "std      181.144454      6.915838      0.466159\n",
              "min        1.000000      0.000000      0.000000\n",
              "25%       42.000000      6.000000      0.000000\n",
              "50%      145.000000     12.000000      1.000000\n",
              "75%      284.000000     18.000000      1.000000\n",
              "max      977.000000     23.000000      1.000000"
            ],
            "text/html": [
              "\n",
              "  <div id=\"df-5b14f03e-0b45-42a8-a727-4b879d1e0cf9\">\n",
              "    <div class=\"colab-df-container\">\n",
              "      <div>\n",
              "<style scoped>\n",
              "    .dataframe tbody tr th:only-of-type {\n",
              "        vertical-align: middle;\n",
              "    }\n",
              "\n",
              "    .dataframe tbody tr th {\n",
              "        vertical-align: top;\n",
              "    }\n",
              "\n",
              "    .dataframe thead th {\n",
              "        text-align: right;\n",
              "    }\n",
              "</style>\n",
              "<table border=\"1\" class=\"dataframe\">\n",
              "  <thead>\n",
              "    <tr style=\"text-align: right;\">\n",
              "      <th></th>\n",
              "      <th>total</th>\n",
              "      <th>hour</th>\n",
              "      <th>workingday</th>\n",
              "    </tr>\n",
              "  </thead>\n",
              "  <tbody>\n",
              "    <tr>\n",
              "      <th>count</th>\n",
              "      <td>10886.000000</td>\n",
              "      <td>10886.000000</td>\n",
              "      <td>10886.000000</td>\n",
              "    </tr>\n",
              "    <tr>\n",
              "      <th>mean</th>\n",
              "      <td>191.574132</td>\n",
              "      <td>11.541613</td>\n",
              "      <td>0.680875</td>\n",
              "    </tr>\n",
              "    <tr>\n",
              "      <th>std</th>\n",
              "      <td>181.144454</td>\n",
              "      <td>6.915838</td>\n",
              "      <td>0.466159</td>\n",
              "    </tr>\n",
              "    <tr>\n",
              "      <th>min</th>\n",
              "      <td>1.000000</td>\n",
              "      <td>0.000000</td>\n",
              "      <td>0.000000</td>\n",
              "    </tr>\n",
              "    <tr>\n",
              "      <th>25%</th>\n",
              "      <td>42.000000</td>\n",
              "      <td>6.000000</td>\n",
              "      <td>0.000000</td>\n",
              "    </tr>\n",
              "    <tr>\n",
              "      <th>50%</th>\n",
              "      <td>145.000000</td>\n",
              "      <td>12.000000</td>\n",
              "      <td>1.000000</td>\n",
              "    </tr>\n",
              "    <tr>\n",
              "      <th>75%</th>\n",
              "      <td>284.000000</td>\n",
              "      <td>18.000000</td>\n",
              "      <td>1.000000</td>\n",
              "    </tr>\n",
              "    <tr>\n",
              "      <th>max</th>\n",
              "      <td>977.000000</td>\n",
              "      <td>23.000000</td>\n",
              "      <td>1.000000</td>\n",
              "    </tr>\n",
              "  </tbody>\n",
              "</table>\n",
              "</div>\n",
              "      <button class=\"colab-df-convert\" onclick=\"convertToInteractive('df-5b14f03e-0b45-42a8-a727-4b879d1e0cf9')\"\n",
              "              title=\"Convert this dataframe to an interactive table.\"\n",
              "              style=\"display:none;\">\n",
              "        \n",
              "  <svg xmlns=\"http://www.w3.org/2000/svg\" height=\"24px\"viewBox=\"0 0 24 24\"\n",
              "       width=\"24px\">\n",
              "    <path d=\"M0 0h24v24H0V0z\" fill=\"none\"/>\n",
              "    <path d=\"M18.56 5.44l.94 2.06.94-2.06 2.06-.94-2.06-.94-.94-2.06-.94 2.06-2.06.94zm-11 1L8.5 8.5l.94-2.06 2.06-.94-2.06-.94L8.5 2.5l-.94 2.06-2.06.94zm10 10l.94 2.06.94-2.06 2.06-.94-2.06-.94-.94-2.06-.94 2.06-2.06.94z\"/><path d=\"M17.41 7.96l-1.37-1.37c-.4-.4-.92-.59-1.43-.59-.52 0-1.04.2-1.43.59L10.3 9.45l-7.72 7.72c-.78.78-.78 2.05 0 2.83L4 21.41c.39.39.9.59 1.41.59.51 0 1.02-.2 1.41-.59l7.78-7.78 2.81-2.81c.8-.78.8-2.07 0-2.86zM5.41 20L4 18.59l7.72-7.72 1.47 1.35L5.41 20z\"/>\n",
              "  </svg>\n",
              "      </button>\n",
              "      \n",
              "  <style>\n",
              "    .colab-df-container {\n",
              "      display:flex;\n",
              "      flex-wrap:wrap;\n",
              "      gap: 12px;\n",
              "    }\n",
              "\n",
              "    .colab-df-convert {\n",
              "      background-color: #E8F0FE;\n",
              "      border: none;\n",
              "      border-radius: 50%;\n",
              "      cursor: pointer;\n",
              "      display: none;\n",
              "      fill: #1967D2;\n",
              "      height: 32px;\n",
              "      padding: 0 0 0 0;\n",
              "      width: 32px;\n",
              "    }\n",
              "\n",
              "    .colab-df-convert:hover {\n",
              "      background-color: #E2EBFA;\n",
              "      box-shadow: 0px 1px 2px rgba(60, 64, 67, 0.3), 0px 1px 3px 1px rgba(60, 64, 67, 0.15);\n",
              "      fill: #174EA6;\n",
              "    }\n",
              "\n",
              "    [theme=dark] .colab-df-convert {\n",
              "      background-color: #3B4455;\n",
              "      fill: #D2E3FC;\n",
              "    }\n",
              "\n",
              "    [theme=dark] .colab-df-convert:hover {\n",
              "      background-color: #434B5C;\n",
              "      box-shadow: 0px 1px 3px 1px rgba(0, 0, 0, 0.15);\n",
              "      filter: drop-shadow(0px 1px 2px rgba(0, 0, 0, 0.3));\n",
              "      fill: #FFFFFF;\n",
              "    }\n",
              "  </style>\n",
              "\n",
              "      <script>\n",
              "        const buttonEl =\n",
              "          document.querySelector('#df-5b14f03e-0b45-42a8-a727-4b879d1e0cf9 button.colab-df-convert');\n",
              "        buttonEl.style.display =\n",
              "          google.colab.kernel.accessAllowed ? 'block' : 'none';\n",
              "\n",
              "        async function convertToInteractive(key) {\n",
              "          const element = document.querySelector('#df-5b14f03e-0b45-42a8-a727-4b879d1e0cf9');\n",
              "          const dataTable =\n",
              "            await google.colab.kernel.invokeFunction('convertToInteractive',\n",
              "                                                     [key], {});\n",
              "          if (!dataTable) return;\n",
              "\n",
              "          const docLinkHtml = 'Like what you see? Visit the ' +\n",
              "            '<a target=\"_blank\" href=https://colab.research.google.com/notebooks/data_table.ipynb>data table notebook</a>'\n",
              "            + ' to learn more about interactive tables.';\n",
              "          element.innerHTML = '';\n",
              "          dataTable['output_type'] = 'display_data';\n",
              "          await google.colab.output.renderOutput(dataTable, element);\n",
              "          const docLink = document.createElement('div');\n",
              "          docLink.innerHTML = docLinkHtml;\n",
              "          element.appendChild(docLink);\n",
              "        }\n",
              "      </script>\n",
              "    </div>\n",
              "  </div>\n",
              "  "
            ]
          },
          "metadata": {},
          "execution_count": 6
        }
      ]
    },
    {
      "cell_type": "code",
      "source": [
        "# Funcion histograma de elemento\n",
        "def graficarHistograma(df, ax, elemento, bins):\n",
        "    ax.hist(x = df[elemento],\n",
        "            # Intervalos\n",
        "            bins = bins,\n",
        "            label = 'moda: {}\\nmediana: {}\\nmedia: {}'.format(list(df[elemento].mode()[:5]),\n",
        "                                                              int(df[elemento].median()),\n",
        "                                                              int(df[elemento].mean())),\n",
        "            rwidth = 0.8)\n",
        "    ax.set_title('Histograma'),\n",
        "    ax.legend()\n",
        "\n",
        "# Funcion histograma de elemento\n",
        "def graficarBoxplot(df, ax, elemento):\n",
        "    bp1 = ax.boxplot(df[elemento])\n",
        "    ax.set_title('Diagrama de Caja'),\n",
        "    ax.legend([bp1[\"boxes\"][0]],\n",
        "              ['min: {}\\nmax: {}\\nrango: {}\\nIQR: {}\\nvar: {}\\nstd: {}\\nCV: {}'.format(min(df[elemento]),\n",
        "                                                                                max(df[elemento]),\n",
        "                                                                                max(df[elemento])-min(df[elemento]),\n",
        "                                                                                int(df[elemento].quantile(0.75)-df[elemento].quantile(0.25)),\n",
        "                                                                                int(df[elemento].var()),\n",
        "                                                                                int(df[elemento].std()),\n",
        "                                                                                round(df[elemento].std()/df[elemento].mean(),2))])\n",
        "\n",
        "# Función Gráficas de tendencia central y dispersión\n",
        "def tendencia(df, elemento):\n",
        "    fig, ax = plt.subplots(1, 2, figsize=(15,6))\n",
        "    fig.suptitle(elemento, fontsize=20)\n",
        "    graficarHistograma(df, ax[0], elemento, 10)\n",
        "    graficarBoxplot(df, ax[1], elemento)\n",
        "    plt.show()"
      ],
      "metadata": {
        "id": "fT24pfrfBBmL"
      },
      "execution_count": null,
      "outputs": []
    },
    {
      "cell_type": "code",
      "source": [
        "tendencia(bikes, 'total')"
      ],
      "metadata": {
        "colab": {
          "base_uri": "https://localhost:8080/",
          "height": 417
        },
        "id": "TJB_hMrmBEJZ",
        "outputId": "8d57aec6-dd38-4cfc-f566-ad49aa19ff43"
      },
      "execution_count": null,
      "outputs": [
        {
          "output_type": "display_data",
          "data": {
            "text/plain": [
              "<Figure size 1080x432 with 2 Axes>"
            ],
            "image/png": "[encoded data removed]"
          },
          "metadata": {
            "needs_background": "light"
          }
        }
      ]
    },
    {
      "cell_type": "code",
      "source": [
        "tendencia(bikes, 'hour')"
      ],
      "metadata": {
        "colab": {
          "base_uri": "https://localhost:8080/",
          "height": 417
        },
        "id": "fs0DoAP8CUja",
        "outputId": "08c6f883-ecfb-4f2b-d34b-cbc16d4cf79e"
      },
      "execution_count": null,
      "outputs": [
        {
          "output_type": "display_data",
          "data": {
            "text/plain": [
              "<Figure size 1080x432 with 2 Axes>"
            ],
            "image/png": "[encoded data removed]"
          },
          "metadata": {
            "needs_background": "light"
          }
        }
      ]
    },
    {
      "cell_type": "code",
      "source": [
        "tendencia(bikes, 'workingday')"
      ],
      "metadata": {
        "colab": {
          "base_uri": "https://localhost:8080/",
          "height": 417
        },
        "id": "Yc74HF4oCbBE",
        "outputId": "01ab2ec5-d4d2-45d7-9691-d63514a3c451"
      },
      "execution_count": null,
      "outputs": [
        {
          "output_type": "display_data",
          "data": {
            "text/plain": [
              "<Figure size 1080x432 with 2 Axes>"
            ],
            "image/png": "[encoded data removed]"
          },
          "metadata": {
            "needs_background": "light"
          }
        }
      ]
    },
    {
      "cell_type": "markdown",
      "source": [
        "### Data Fields - Diccionario de Datos\n",
        "datetime - hourly date + timestamp \n",
        "\n",
        "season -  1 = spring, 2 = summer, 3 = fall, 4 = winter\n",
        "\n",
        "holiday - whether the day is considered a holiday\n",
        "\n",
        "workingday - whether the day is neither a weekend nor holiday\n",
        "\n",
        "weather - 1: Clear, Few clouds, Partly cloudy, Partly cloudy\n",
        "2: Mist + Cloudy, Mist + Broken clouds, Mist + Few clouds, Mist\n",
        "3: Light Snow, Light Rain + Thunderstorm + Scattered clouds, Light Rain + Scattered clouds\n",
        "4: Heavy Rain + Ice Pallets + Thunderstorm + Mist, Snow + Fog \n",
        "\n",
        "temp - temperature in Celsius\n",
        "\n",
        "atemp - \"feels like\" temperature in Celsius\n",
        "\n",
        "humidity - relative humidity\n",
        "\n",
        "windspeed - wind speed\n",
        "\n",
        "casual - number of non-registered user rentals initiated\n",
        "\n",
        "registered - number of registered user rentals initiated\n",
        "\n",
        "count - number of total rentals"
      ],
      "metadata": {
        "id": "RqnPUvq_95Tq"
      }
    },
    {
      "cell_type": "markdown",
      "source": [
        "### Variable Total:\n",
        "Variable renombrada de la variable \"count\" que representa el número de bicicletas rentadas, es una variable numérica de tipo unimodal con moda en 5, mediana en 145 y media en 191, su valor mínimo es 1 y su máximo es 977, su desviación estándar es de 181 y presenta múltiples valores atípicos.\n",
        "### Variable Hour:\n",
        "Variable extraída de la variable \"datetime\", con 24 clases de datos que representan la hora militar en que una bicicleta es rentada, es una variable numérica de tipo multimodal con modas en (12,13, 14, 15 y 16), mediana en 12 y media en 11, su valor mínimo es 0 y su máximo es 23, su desviación estándar es de 6 y no presenta valores atípicos.\n",
        "\n",
        "En su relación con la variable Total, se identifican promedios bajos entre las 23 y las 06 horas con un mínimo de 6.4 bicicletas rentadas a las 04 horas y promedios altos entre las horas (08, 16 a 19) con un pico de 362.7 bicicletas a las 08 horas y un máximo de 468.7 bicicletas a las 17 horas, por lo que se infiere que en la noche la renta de bicicletas es baja, en la mañana se presenta un pico de demanda a la hora de entrada al trabajo y en la tarde la demanda vuelve a aumentar por algunas horas al final de la jornada laboral.\n",
        "### Variable WorkingDay:\n",
        "Variable que representa si un día es laboral o no, su moda es 1, su valor mínimo es 0 y su máximo es 1, su desviación estándar es de 0 y no presenta valores atípicos.\n",
        "\n",
        "En su relación con la variable Total, se identifica que cuando el día no es laboral el promedio de bicicletas rentadas es de 188.5 y cuando el día es laboral el promedio de bicicletas es de 193, por lo que se infiere que aunque la diferencia no es significativa si hay una mayor demanda de bicicletas en los días laborales.\n"
      ],
      "metadata": {
        "id": "5L58l3jL9N4_"
      }
    },
    {
      "cell_type": "markdown",
      "metadata": {
        "id": "drCuZqfYo1UG"
      },
      "source": [
        "### Punto 2 - Análisis de gráficos\n",
        "\n",
        "Primero ejecute la celda 2.1 y asegúrese de comprender el código y el resultado. Luego, en cada una de celdas 2.2 y 2.3 escriba un código que genere una gráfica de las rentas promedio por hora cuando la variable \"workingday\" es igual a 0 e igual a 1, respectivamente. Analice y escriba sus hallazgos."
      ]
    },
    {
      "cell_type": "code",
      "execution_count": null,
      "metadata": {
        "id": "PVrTE1xBo1UJ",
        "colab": {
          "base_uri": "https://localhost:8080/",
          "height": 296
        },
        "outputId": "2e76fc89-9932-402f-a436-9aba09efcd33"
      },
      "outputs": [
        {
          "output_type": "execute_result",
          "data": {
            "text/plain": [
              "<matplotlib.axes._subplots.AxesSubplot at 0x7f1c6fdbac10>"
            ]
          },
          "metadata": {},
          "execution_count": 11
        },
        {
          "output_type": "display_data",
          "data": {
            "text/plain": [
              "<Figure size 432x288 with 1 Axes>"
            ],
            "image/png": "[encoded data removed]"
          },
          "metadata": {
            "needs_background": "light"
          }
        }
      ],
      "source": [
        "# Celda 2.1 - rentas promedio para cada valor de la variable \"hour\"\n",
        "bikes.groupby('hour').total.mean().plot()"
      ]
    },
    {
      "cell_type": "code",
      "execution_count": null,
      "metadata": {
        "id": "8O0TYD8Ao1UM",
        "colab": {
          "base_uri": "https://localhost:8080/",
          "height": 298
        },
        "outputId": "975b7e62-3d92-4d6d-8df8-1ba2437ac6ee"
      },
      "outputs": [
        {
          "output_type": "execute_result",
          "data": {
            "text/plain": [
              "<matplotlib.axes._subplots.AxesSubplot at 0x7f1c6fd2e790>"
            ]
          },
          "metadata": {},
          "execution_count": 12
        },
        {
          "output_type": "display_data",
          "data": {
            "text/plain": [
              "<Figure size 432x288 with 1 Axes>"
            ],
            "image/png": "[encoded data removed]"
          },
          "metadata": {
            "needs_background": "light"
          }
        }
      ],
      "source": [
        "# Celda 2.2 - \"workingday\"=0 escriba su código y hallazgos \n",
        "bikes[bikes.workingday == 0].groupby('hour').total.mean().plot()"
      ]
    },
    {
      "cell_type": "markdown",
      "source": [
        "Cuando el día no es laboral la demanda de bicicletas rentadas permanece alta entre las 08 y las 19 horas, e incluso en las horas de la noche su demanda es mayor que en los días laborales por lo que se infiere que su uso es principalmente para fines recreativos."
      ],
      "metadata": {
        "id": "oebCFENiLVvd"
      }
    },
    {
      "cell_type": "code",
      "execution_count": null,
      "metadata": {
        "id": "_fZ-cEy7o1UO",
        "colab": {
          "base_uri": "https://localhost:8080/",
          "height": 296
        },
        "outputId": "2d65073f-d586-48e5-8d49-dae24dbc98cb"
      },
      "outputs": [
        {
          "output_type": "execute_result",
          "data": {
            "text/plain": [
              "<matplotlib.axes._subplots.AxesSubplot at 0x7f1c6fca4490>"
            ]
          },
          "metadata": {},
          "execution_count": 13
        },
        {
          "output_type": "display_data",
          "data": {
            "text/plain": [
              "<Figure size 432x288 with 1 Axes>"
            ],
            "image/png": "[encoded data removed]"
          },
          "metadata": {
            "needs_background": "light"
          }
        }
      ],
      "source": [
        "# Celda 2.3 - \"workingday\"=1 escriba su código y hallazgos \n",
        "bikes[bikes.workingday == 1].groupby('hour').total.mean().plot()"
      ]
    },
    {
      "cell_type": "markdown",
      "source": [
        "Cuando el día es laboral la demanda de bicicletas rentadas presenta dos rangos de horario en los que se supera el promedio diario, los cuales son entre las 07 y 09 horas y entre las 16 y las 19 horas, por lo que se infiere que el primer pico de demanda está relacionado con el inicio de la jornada laboral y el segundo pico de demanda comienza con el fin de la jornada laboral pero se extiende algunas horas y es un poco más alto que el primer pico por lo que también puede estar relacionado con actividades recreativas."
      ],
      "metadata": {
        "id": "hjA4uM5dMxN7"
      }
    },
    {
      "cell_type": "markdown",
      "metadata": {
        "id": "jakvRFmRo1UR"
      },
      "source": [
        "### Punto 3 - Regresión lineal\n",
        "En la celda 3 ajuste un modelo de regresión lineal a todo el conjunto de datos, utilizando \"total\" como variable de respuesta y \"hour\" y \"workingday\" como las únicas variables predictoras. Luego, imprima los coeficientes e interprételos. ¿Cuáles son las limitaciones de la regresión lineal en este caso?"
      ]
    },
    {
      "cell_type": "code",
      "execution_count": null,
      "metadata": {
        "id": "5QPlHAGZo1UT",
        "colab": {
          "base_uri": "https://localhost:8080/",
          "height": 282
        },
        "outputId": "81970b92-39e5-4b14-ec84-a6a08e0003e6"
      },
      "outputs": [
        {
          "output_type": "stream",
          "name": "stdout",
          "text": [
            "Coeficientes:  [10.49206282  4.07248627]\n"
          ]
        },
        {
          "output_type": "display_data",
          "data": {
            "text/plain": [
              "<Figure size 432x288 with 1 Axes>"
            ],
            "image/png": "[encoded data removed]"
          },
          "metadata": {
            "needs_background": "light"
          }
        }
      ],
      "source": [
        "# Celda 3\n",
        "# Separación de variables predictoras (X) y variable de interés (y)\n",
        "X = bikes[['hour','workingday']]\n",
        "y = bikes.total\n",
        "\n",
        "# Entrenamiento (fit) del modelo\n",
        "reg = LinearRegression().fit(X, y)\n",
        "print('Coeficientes: ', reg.coef_)\n",
        "\n",
        "# Crea dataframe de respuesta\n",
        "Z = X.copy()\n",
        "Z['y'] = y\n",
        "\n",
        "# Predecir\n",
        "Z['pred'] = reg.predict(X)\n",
        "\n",
        "#Z.groupby('hour').hour.mean()\n",
        "plt.plot(Z.groupby('hour').hour.mean(), Z.groupby('hour').y.mean(), color=\"blue\", label=\"Total\")\n",
        "plt.plot(Z.groupby('hour').hour.mean(), Z.groupby('hour').pred.mean(), color=\"red\", label=\"Pred\")\n",
        "plt.legend()\n",
        "plt.show()"
      ]
    },
    {
      "cell_type": "markdown",
      "source": [
        "Los coeficientes resultantes del modelo son 10.5 para la variable Hour y 4.0 para la variable WorkingDay, lo que significa que por cada hora adicional la renta de bicicletas aumenta en 10.5 y si es día laboral le suma un aumento de 4.0.\n",
        "\n",
        "En la gráfica se presenta el comparativo del promedio de la variable \"Total\" y el promedio de la predicción \"Pred\", permitiendo identificar que la regresión lineal no es un modelo adecuado para predecir el comportamiento \"no lineal\" de la demanda de bicicletas rentadas, ya que ésta demanda presenta un comportamiento cíclico a lo largo del día"
      ],
      "metadata": {
        "id": "wXBPtg9Lbr64"
      }
    },
    {
      "cell_type": "markdown",
      "metadata": {
        "id": "aD-XLZn5o1UW"
      },
      "source": [
        "### Punto 4 - Árbol de decisión manual\n",
        "En la celda 4 cree un árbol de decisiones para pronosticar la variable \"total\" iterando **manualmente** sobre las variables \"hour\" y  \"workingday\". El árbol debe tener al menos 6 nodos finales."
      ]
    },
    {
      "cell_type": "code",
      "execution_count": null,
      "metadata": {
        "id": "BeaGEsjno1UY",
        "colab": {
          "base_uri": "https://localhost:8080/"
        },
        "outputId": "d4048052-1581-4357-8080-940fb7eabb5f"
      },
      "outputs": [
        {
          "output_type": "execute_result",
          "data": {
            "text/plain": [
              "{'level': 0,\n",
              " 'loss': 164813348.2970792,\n",
              " 'n_samples': 7293,\n",
              " 'sl': {'level': 1,\n",
              "  'loss': 2680124.385789589,\n",
              "  'n_samples': 2141,\n",
              "  'sl': {'level': 2,\n",
              "   'loss': 1412855.7162268094,\n",
              "   'n_samples': 1827,\n",
              "   'sl': {'level': 3,\n",
              "    'loss': 613185.752600048,\n",
              "    'n_samples': 623,\n",
              "    'split': -1,\n",
              "    'y_pred': 44.8876404494382,\n",
              "    'y_prob': 44.7456},\n",
              "   'split': [0, 2.0],\n",
              "   'sr': {'level': 3,\n",
              "    'loss': 312010.3635643913,\n",
              "    'n_samples': 1204,\n",
              "    'split': -1,\n",
              "    'y_pred': 15.093023255813954,\n",
              "    'y_prob': 15.068822553897181},\n",
              "   'y_pred': 25.25287356321839,\n",
              "   'y_prob': 25.225806451612904},\n",
              "  'split': [0, 6.0],\n",
              "  'sr': {'level': 2,\n",
              "   'loss': 469049.8772660007,\n",
              "   'n_samples': 314,\n",
              "   'sl': {'level': 3,\n",
              "    'loss': 10000000000,\n",
              "    'n_samples': 102,\n",
              "    'split': -1,\n",
              "    'y_pred': 20.745098039215687,\n",
              "    'y_prob': 20.35576923076923},\n",
              "   'split': [1, 1.0],\n",
              "   'sr': {'level': 3,\n",
              "    'loss': 10000000000,\n",
              "    'n_samples': 212,\n",
              "    'split': -1,\n",
              "    'y_pred': 100.10849056603773,\n",
              "    'y_prob': 99.17757009345794},\n",
              "   'y_pred': 74.328025477707,\n",
              "   'y_prob': 73.86075949367088},\n",
              "  'y_pred': 32.450256889304065,\n",
              "  'y_prob': 32.42043863742417},\n",
              " 'split': [0, 7.0],\n",
              " 'sr': {'level': 1,\n",
              "  'loss': 144336541.85604107,\n",
              "  'n_samples': 5152,\n",
              "  'sl': {'level': 2,\n",
              "   'loss': 127185338.10721165,\n",
              "   'n_samples': 4240,\n",
              "   'sl': {'level': 3,\n",
              "    'loss': 64363007.9264812,\n",
              "    'n_samples': 2703,\n",
              "    'split': -1,\n",
              "    'y_pred': 242.33777284498706,\n",
              "    'y_prob': 242.15896487985214},\n",
              "   'split': [0, 16.0],\n",
              "   'sr': {'level': 3,\n",
              "    'loss': 54389477.50436384,\n",
              "    'n_samples': 1537,\n",
              "    'split': -1,\n",
              "    'y_pred': 350.93493819128173,\n",
              "    'y_prob': 350.4795321637427},\n",
              "   'y_pred': 281.70424528301885,\n",
              "   'y_prob': 281.57166430928805},\n",
              "  'split': [0, 21.0],\n",
              "  'sr': {'level': 2,\n",
              "   'loss': 4714821.540375638,\n",
              "   'n_samples': 912,\n",
              "   'sl': {'level': 3,\n",
              "    'loss': 2045631.940364157,\n",
              "    'n_samples': 302,\n",
              "    'split': -1,\n",
              "    'y_pred': 174.70529801324503,\n",
              "    'y_prob': 173.55921052631578},\n",
              "   'split': [0, 22.0],\n",
              "   'sr': {'level': 3,\n",
              "    'loss': 2349103.543414928,\n",
              "    'n_samples': 610,\n",
              "    'split': -1,\n",
              "    'y_pred': 108.6704918032787,\n",
              "    'y_prob': 108.31699346405229},\n",
              "   'y_pred': 130.53728070175438,\n",
              "   'y_prob': 130.2527352297593},\n",
              "  'y_pred': 254.9448757763975,\n",
              "  'y_prob': 254.84613892122624},\n",
              " 'y_pred': 189.627313862608,\n",
              " 'y_prob': 189.5754626456477}"
            ]
          },
          "metadata": {},
          "execution_count": 15
        }
      ],
      "source": [
        "# Celda 4\n",
        "\n",
        "# Separar el dataset en train y test\n",
        "XTrain, XTest, yTrain, yTest = train_test_split(bikes[['hour','workingday']], bikes.total, test_size=0.33, random_state=0)\n",
        "\n",
        "\n",
        "# Definición de parámetros y criterios de parada\n",
        "max_depth = None\n",
        "num_pct = 10\n",
        "max_features = None\n",
        "min_loss=0.001\n",
        "\n",
        "\n",
        "# Definición de la función que calcula el SSE\n",
        "def sse(y_true, y_pred):\n",
        "  return (np.square(y_true - y_pred)).sum()\n",
        "\n",
        "# Definición de la función que calcula el MSE\n",
        "def mse(y_true, y_pred):\n",
        "  return (np.square(y_true - y_pred)).mean()\n",
        "\n",
        "\n",
        "# Definición de la función sse_split para calular el SSE de una variable predictora j dado el punto de corte k\n",
        "def sse_split(X_col, y, split):\n",
        "    \n",
        "    # Separa el dataset en izquierda y derecha\n",
        "    filter_l = (X_col < split).values\n",
        "    X_l = X_col[filter_l]\n",
        "    X_r = X_col.loc[~filter_l]\n",
        "    y_l = y.loc[filter_l]\n",
        "    y_r = y.loc[~filter_l]\n",
        "    \n",
        "    # promedio para izquierda y derecha\n",
        "    gorro_y = y.mean()\n",
        "    gorro_y_l = y_l.mean()\n",
        "    gorro_y_r = y_r.mean()\n",
        "    \n",
        "    # Retorna el SSE de izquiereda mas el SSE de derecha\n",
        "    return sse(y_l, gorro_y_l) + sse(y_r, gorro_y_r)\n",
        "\n",
        "\n",
        "# Definición de la función best_split para calcular cuál es la mejor variable y punto de cortepara hacer la bifurcación del árbol\n",
        "def best_split(X, y, num_pct=10):\n",
        "    \n",
        "    features = range(X.shape[1])\n",
        "    \n",
        "    best_split = [0, 0, 10000000000]  # j, split, loss\n",
        "    \n",
        "    # Para todas las varibles \n",
        "    for j in features:\n",
        "        \n",
        "        splits = np.percentile(X.iloc[:, j], np.arange(0, 100, 100.0 / (num_pct+1)).tolist())\n",
        "        splits = np.unique(splits)[1:]\n",
        "        \n",
        "        # Para cada partición\n",
        "        for split in splits:\n",
        "            loss = sse_split(X.iloc[:, [j]], y, split)\n",
        "                        \n",
        "            if loss < best_split[2]:\n",
        "                best_split = [j, split, loss]\n",
        "    \n",
        "    return best_split\n",
        "\n",
        "\n",
        "# Definición de la función tree_grow para hacer un crecimiento recursivo del árbol\n",
        "def tree_grow(X, y, level=0, min_loss=0.001, max_depth=None, num_pct=10):\n",
        "    \n",
        "    # Si solo es una observación\n",
        "    if X.shape[0] == 1:\n",
        "        tree = dict(y_pred=y.iloc[:1].values[0], y_prob=0.5, level=level, split=-1, n_samples=1, loss=0)\n",
        "        return tree\n",
        "    \n",
        "    # Calcular la mejor división\n",
        "    j, split, loss = best_split(X, y, num_pct)\n",
        "    \n",
        "    # Guardar el árbol y estimar la predicción\n",
        "    y_pred = y.mean() \n",
        "    y_prob = (y.sum() + 1.0) / (y.shape[0] + 2.0)  # Corrección Laplace \n",
        "    \n",
        "    tree = dict(y_pred=y_pred, y_prob=y_prob, level=level, split=-1, n_samples=X.shape[0], loss=loss)\n",
        "    # Revisar el criterio de parada \n",
        "    if loss < min_loss:\n",
        "        return tree\n",
        "    if max_depth is not None:\n",
        "        if level >= max_depth:\n",
        "            return tree   \n",
        "    \n",
        "    # Continuar creando la partición\n",
        "    filter_l = X.iloc[:, j] < split\n",
        "    X_l, y_l = X.loc[filter_l], y.loc[filter_l]\n",
        "    X_r, y_r = X.loc[~filter_l], y.loc[~filter_l]\n",
        "    tree['split'] = [j, split]\n",
        "\n",
        "    # Siguiente iteración para cada partición\n",
        "    \n",
        "    tree['sl'] = tree_grow(X_l, y_l, level + 1, min_loss=min_loss, max_depth=max_depth, num_pct=num_pct)\n",
        "    tree['sr'] = tree_grow(X_r, y_r, level + 1, min_loss=min_loss, max_depth=max_depth, num_pct=num_pct)\n",
        "    \n",
        "    return tree\n",
        "\n",
        "\n",
        "# Aplicación de la función tree_grow al dataset de Train\n",
        "treeManual = tree_grow(XTrain, yTrain, level=0, min_loss=0.001, max_depth=3, num_pct=20)\n",
        "treeManual"
      ]
    },
    {
      "cell_type": "code",
      "source": [
        "# Definición de la función tree_predict para hacer predicciones según las variables 'X' y el árbol 'tree'\n",
        "\n",
        "def tree_predict(X, tree, proba=False):\n",
        "    \n",
        "    predicted = np.ones(X.shape[0])\n",
        "\n",
        "    # Revisar si es el nodo final\n",
        "    if tree['split'] == -1:\n",
        "        if not proba:\n",
        "            predicted = predicted * tree['y_pred']\n",
        "        else:\n",
        "            predicted = predicted * tree['y_prob']\n",
        "            \n",
        "    else:\n",
        "        \n",
        "        j, split = tree['split']\n",
        "        filter_l = (X.iloc[:, j] < split)\n",
        "        X_l = X.loc[filter_l]\n",
        "        X_r = X.loc[~filter_l]\n",
        "\n",
        "        if X_l.shape[0] == 0:  # Si el nodo izquierdo está vacio solo continua con el derecho \n",
        "            predicted[~filter_l] = tree_predict(X_r, tree['sr'], proba)\n",
        "        elif X_r.shape[0] == 0:  #  Si el nodo derecho está vacio solo continua con el izquierdo\n",
        "            predicted[filter_l] = tree_predict(X_l, tree['sl'], proba)\n",
        "        else:\n",
        "            predicted[filter_l] = tree_predict(X_l, tree['sl'], proba)\n",
        "            predicted[~filter_l] = tree_predict(X_r, tree['sr'], proba)\n",
        "\n",
        "    return predicted\n",
        "\n",
        "# Ejecución de función tree_predict\n",
        "yPredManual = tree_predict(XTest, treeManual)\n",
        "print('MSE arbol Manual: ', mse(yTest, yPredManual))\n",
        "\n",
        "# Crea dataframe de respuesta\n",
        "Zmanual = XTest.copy()\n",
        "Zmanual['y'] = yTest\n",
        "\n",
        "# Predecir\n",
        "Zmanual['pred'] = yPredManual\n",
        "\n",
        "#Z.groupby('hour').hour.mean()\n",
        "plt.plot(Zmanual.groupby('hour').hour.mean(), Zmanual.groupby('hour').y.mean(), color=\"blue\", label=\"Total\")\n",
        "plt.plot(Zmanual.groupby('hour').hour.mean(), Zmanual.groupby('hour').pred.mean(), color=\"red\", label=\"Pred\")\n",
        "plt.legend()\n",
        "plt.show()"
      ],
      "metadata": {
        "colab": {
          "base_uri": "https://localhost:8080/",
          "height": 282
        },
        "id": "xCjxfuYmf1tD",
        "outputId": "b6eaf738-9224-44a1-d7d8-9b5fb340bc6c"
      },
      "execution_count": null,
      "outputs": [
        {
          "output_type": "stream",
          "name": "stdout",
          "text": [
            "MSE arbol Manual:  18362.54033071873\n"
          ]
        },
        {
          "output_type": "display_data",
          "data": {
            "text/plain": [
              "<Figure size 432x288 with 1 Axes>"
            ],
            "image/png": "[encoded data removed]"
          },
          "metadata": {
            "needs_background": "light"
          }
        }
      ]
    },
    {
      "cell_type": "markdown",
      "metadata": {
        "id": "s6WnWLbko1Ua"
      },
      "source": [
        "### Punto 5 - Árbol de decisión con librería\n",
        "En la celda 5 entrene un árbol de decisiones con la **librería sklearn**, usando las variables predictoras \"hour\" y \"workingday\" y calibre los parámetros que considere conveniente para obtener un mejor desempeño. Comente el desempeño del modelo con alguna métrica de desempeño de modelos de clasificación y compare desempeño con el modelo del punto 3."
      ]
    },
    {
      "cell_type": "code",
      "execution_count": null,
      "metadata": {
        "id": "LpNOXzETo1Uc",
        "colab": {
          "base_uri": "https://localhost:8080/",
          "height": 298
        },
        "outputId": "89179d4c-e21a-4a25-9597-1d91ba39d627"
      },
      "outputs": [
        {
          "output_type": "execute_result",
          "data": {
            "text/plain": [
              "Text(0, 0.5, 'MSE')"
            ]
          },
          "metadata": {},
          "execution_count": 17
        },
        {
          "output_type": "display_data",
          "data": {
            "text/plain": [
              "<Figure size 432x288 with 1 Axes>"
            ],
            "image/png": "[encoded data removed]"
          },
          "metadata": {
            "needs_background": "light"
          }
        }
      ],
      "source": [
        "# Celda 5\n",
        "# Lista de valores para calibrar el criterio de parada de máxima profundidad (max_depth)\n",
        "max_depth_range = range(1, 21)\n",
        "\n",
        "# Lista para guardar los valores del RMSE para cada valor de máxima profundidad (max_depth)\n",
        "mse_scores = []\n",
        "\n",
        "# Loop para obtener el desempeño del modelo de acuerdo con la máxima profundidad\n",
        "for depth in max_depth_range:\n",
        "    # Definición del árbol de decisión usando DecisionTreeClassifier de la libreria sklearn\n",
        "    tree = DecisionTreeRegressor(max_depth=depth, random_state=1)\n",
        "    # Entrena el árbol de regresión con el dataset Train\n",
        "    tree.fit(XTrain, yTrain)\n",
        "    # Predice con el dataset Test\n",
        "    yPred = tree.predict(XTest)\n",
        "    # Calcula MSE\n",
        "    mse_scores.append(mse(yTest, yPred))\n",
        "\n",
        "# Gráfica max_depth versus MSE (error del modelo)\n",
        "plt.plot(max_depth_range, mse_scores)\n",
        "plt.xlabel('max_depth')\n",
        "plt.ylabel('MSE')"
      ]
    },
    {
      "cell_type": "code",
      "source": [
        "# Definición del árbol de decisión\n",
        "tree = DecisionTreeRegressor(max_depth=6, random_state=1)\n",
        "# Entrena el árbol de regresión con el dataset Train\n",
        "tree.fit(XTrain, yTrain)\n",
        "# Predice con el dataset Test\n",
        "yPredLibreria = tree.predict(XTest)\n",
        "# Calcula MSE\n",
        "print('MSE del modelo del punto 3: ', mse(Z.y, Z.pred))\n",
        "print('MSE arbol con libreria: ', mse(yTest, yPredLibreria))\n",
        "\n",
        "# Crea dataframe de respuesta\n",
        "ZLibreria = XTest.copy()\n",
        "ZLibreria['y'] = yTest\n",
        "\n",
        "# Predecir\n",
        "ZLibreria['pred'] = yPredLibreria\n",
        "\n",
        "#Z.groupby('hour').hour.mean()\n",
        "plt.plot(ZLibreria.groupby('hour').hour.mean(), ZLibreria.groupby('hour').y.mean(), color=\"blue\", label=\"Total\")\n",
        "plt.plot(ZLibreria.groupby('hour').hour.mean(), ZLibreria.groupby('hour').pred.mean(), color=\"red\", label=\"Pred\")\n",
        "plt.legend()\n",
        "plt.show()"
      ],
      "metadata": {
        "colab": {
          "base_uri": "https://localhost:8080/",
          "height": 300
        },
        "id": "2MJHuM-nE4rb",
        "outputId": "921e795d-ab3d-47d4-ad78-7d245003227e"
      },
      "execution_count": null,
      "outputs": [
        {
          "output_type": "stream",
          "name": "stdout",
          "text": [
            "MSE del modelo del punto 3:  27541.25525249845\n",
            "MSE arbol con libreria:  11637.921786519417\n"
          ]
        },
        {
          "output_type": "display_data",
          "data": {
            "text/plain": [
              "<Figure size 432x288 with 1 Axes>"
            ],
            "image/png": "[encoded data removed]"
          },
          "metadata": {
            "needs_background": "light"
          }
        }
      ]
    },
    {
      "cell_type": "markdown",
      "source": [
        "El parámetro de calibración utilizado es max_depth y se obtuvo el mejor desempeño a partir del valor 6.\n",
        "\n",
        "La métrica utilizada para comparar los modelos es el MSE con un resultado de 27541 para el modelo del punto 3, 18362 para el modelo de árbol manual del punto 4 y 11637 para el árbol usando librería del punto 5."
      ],
      "metadata": {
        "id": "mNRV6gKrGV9B"
      }
    },
    {
      "cell_type": "markdown",
      "metadata": {
        "id": "f-2lLlIEo1Ue"
      },
      "source": [
        "## Parte B - Métodos de ensamblajes\n",
        "En esta parte del taller se usará el conjunto de datos de Popularidad de Noticias Online. El objetivo es predecir si la notica es popular o no, la popularidad esta dada por la cantidad de reacciones en redes sociales. Para más detalles puede visitar el sigueinte enlace: [datos](https://archive.ics.uci.edu/ml/datasets/online+news+popularity)."
      ]
    },
    {
      "cell_type": "markdown",
      "metadata": {
        "id": "tM9Pmivro1Uf"
      },
      "source": [
        "### Datos popularidad de noticias"
      ]
    },
    {
      "cell_type": "code",
      "execution_count": null,
      "metadata": {
        "id": "Mtpzpsfeo1Ug",
        "colab": {
          "base_uri": "https://localhost:8080/",
          "height": 386
        },
        "outputId": "f26be991-5789-4e29-fb11-797e6f3df5a6"
      },
      "outputs": [
        {
          "output_type": "execute_result",
          "data": {
            "text/plain": [
              "                                                 url  timedelta  \\\n",
              "0  http://mashable.com/2014/12/10/cia-torture-rep...       28.0   \n",
              "1  http://mashable.com/2013/10/18/bitlock-kicksta...      447.0   \n",
              "2  http://mashable.com/2013/07/24/google-glass-po...      533.0   \n",
              "3  http://mashable.com/2013/11/21/these-are-the-m...      413.0   \n",
              "4  http://mashable.com/2014/02/11/parking-ticket-...      331.0   \n",
              "\n",
              "   n_tokens_title  n_tokens_content  n_unique_tokens  n_non_stop_words  \\\n",
              "0             9.0             188.0         0.732620               1.0   \n",
              "1             7.0             297.0         0.653199               1.0   \n",
              "2            11.0             181.0         0.660377               1.0   \n",
              "3            12.0             781.0         0.497409               1.0   \n",
              "4             8.0             177.0         0.685714               1.0   \n",
              "\n",
              "   n_non_stop_unique_tokens  num_hrefs  num_self_hrefs  num_imgs  ...  \\\n",
              "0                  0.844262        5.0             1.0       1.0  ...   \n",
              "1                  0.815789        9.0             4.0       1.0  ...   \n",
              "2                  0.775701        4.0             3.0       1.0  ...   \n",
              "3                  0.677350       10.0             3.0       1.0  ...   \n",
              "4                  0.830357        3.0             2.0       1.0  ...   \n",
              "\n",
              "   min_positive_polarity  max_positive_polarity  avg_negative_polarity  \\\n",
              "0               0.200000                   0.80              -0.487500   \n",
              "1               0.160000                   0.50              -0.135340   \n",
              "2               0.136364                   1.00               0.000000   \n",
              "3               0.100000                   1.00              -0.195701   \n",
              "4               0.100000                   0.55              -0.175000   \n",
              "\n",
              "   min_negative_polarity  max_negative_polarity  title_subjectivity  \\\n",
              "0                  -0.60              -0.250000                 0.9   \n",
              "1                  -0.40              -0.050000                 0.1   \n",
              "2                   0.00               0.000000                 0.3   \n",
              "3                  -0.40              -0.071429                 0.0   \n",
              "4                  -0.25              -0.100000                 0.0   \n",
              "\n",
              "   title_sentiment_polarity  abs_title_subjectivity  \\\n",
              "0                       0.8                     0.4   \n",
              "1                      -0.1                     0.4   \n",
              "2                       1.0                     0.2   \n",
              "3                       0.0                     0.5   \n",
              "4                       0.0                     0.5   \n",
              "\n",
              "   abs_title_sentiment_polarity  Popular  \n",
              "0                           0.8        1  \n",
              "1                           0.1        0  \n",
              "2                           1.0        0  \n",
              "3                           0.0        0  \n",
              "4                           0.0        0  \n",
              "\n",
              "[5 rows x 61 columns]"
            ],
            "text/html": [
              "\n",
              "  <div id=\"df-51a34c49-2ea7-455e-aaea-fcb7a51c7671\">\n",
              "    <div class=\"colab-df-container\">\n",
              "      <div>\n",
              "<style scoped>\n",
              "    .dataframe tbody tr th:only-of-type {\n",
              "        vertical-align: middle;\n",
              "    }\n",
              "\n",
              "    .dataframe tbody tr th {\n",
              "        vertical-align: top;\n",
              "    }\n",
              "\n",
              "    .dataframe thead th {\n",
              "        text-align: right;\n",
              "    }\n",
              "</style>\n",
              "<table border=\"1\" class=\"dataframe\">\n",
              "  <thead>\n",
              "    <tr style=\"text-align: right;\">\n",
              "      <th></th>\n",
              "      <th>url</th>\n",
              "      <th>timedelta</th>\n",
              "      <th>n_tokens_title</th>\n",
              "      <th>n_tokens_content</th>\n",
              "      <th>n_unique_tokens</th>\n",
              "      <th>n_non_stop_words</th>\n",
              "      <th>n_non_stop_unique_tokens</th>\n",
              "      <th>num_hrefs</th>\n",
              "      <th>num_self_hrefs</th>\n",
              "      <th>num_imgs</th>\n",
              "      <th>...</th>\n",
              "      <th>min_positive_polarity</th>\n",
              "      <th>max_positive_polarity</th>\n",
              "      <th>avg_negative_polarity</th>\n",
              "      <th>min_negative_polarity</th>\n",
              "      <th>max_negative_polarity</th>\n",
              "      <th>title_subjectivity</th>\n",
              "      <th>title_sentiment_polarity</th>\n",
              "      <th>abs_title_subjectivity</th>\n",
              "      <th>abs_title_sentiment_polarity</th>\n",
              "      <th>Popular</th>\n",
              "    </tr>\n",
              "  </thead>\n",
              "  <tbody>\n",
              "    <tr>\n",
              "      <th>0</th>\n",
              "      <td>http://mashable.com/2014/12/10/cia-torture-rep...</td>\n",
              "      <td>28.0</td>\n",
              "      <td>9.0</td>\n",
              "      <td>188.0</td>\n",
              "      <td>0.732620</td>\n",
              "      <td>1.0</td>\n",
              "      <td>0.844262</td>\n",
              "      <td>5.0</td>\n",
              "      <td>1.0</td>\n",
              "      <td>1.0</td>\n",
              "      <td>...</td>\n",
              "      <td>0.200000</td>\n",
              "      <td>0.80</td>\n",
              "      <td>-0.487500</td>\n",
              "      <td>-0.60</td>\n",
              "      <td>-0.250000</td>\n",
              "      <td>0.9</td>\n",
              "      <td>0.8</td>\n",
              "      <td>0.4</td>\n",
              "      <td>0.8</td>\n",
              "      <td>1</td>\n",
              "    </tr>\n",
              "    <tr>\n",
              "      <th>1</th>\n",
              "      <td>http://mashable.com/2013/10/18/bitlock-kicksta...</td>\n",
              "      <td>447.0</td>\n",
              "      <td>7.0</td>\n",
              "      <td>297.0</td>\n",
              "      <td>0.653199</td>\n",
              "      <td>1.0</td>\n",
              "      <td>0.815789</td>\n",
              "      <td>9.0</td>\n",
              "      <td>4.0</td>\n",
              "      <td>1.0</td>\n",
              "      <td>...</td>\n",
              "      <td>0.160000</td>\n",
              "      <td>0.50</td>\n",
              "      <td>-0.135340</td>\n",
              "      <td>-0.40</td>\n",
              "      <td>-0.050000</td>\n",
              "      <td>0.1</td>\n",
              "      <td>-0.1</td>\n",
              "      <td>0.4</td>\n",
              "      <td>0.1</td>\n",
              "      <td>0</td>\n",
              "    </tr>\n",
              "    <tr>\n",
              "      <th>2</th>\n",
              "      <td>http://mashable.com/2013/07/24/google-glass-po...</td>\n",
              "      <td>533.0</td>\n",
              "      <td>11.0</td>\n",
              "      <td>181.0</td>\n",
              "      <td>0.660377</td>\n",
              "      <td>1.0</td>\n",
              "      <td>0.775701</td>\n",
              "      <td>4.0</td>\n",
              "      <td>3.0</td>\n",
              "      <td>1.0</td>\n",
              "      <td>...</td>\n",
              "      <td>0.136364</td>\n",
              "      <td>1.00</td>\n",
              "      <td>0.000000</td>\n",
              "      <td>0.00</td>\n",
              "      <td>0.000000</td>\n",
              "      <td>0.3</td>\n",
              "      <td>1.0</td>\n",
              "      <td>0.2</td>\n",
              "      <td>1.0</td>\n",
              "      <td>0</td>\n",
              "    </tr>\n",
              "    <tr>\n",
              "      <th>3</th>\n",
              "      <td>http://mashable.com/2013/11/21/these-are-the-m...</td>\n",
              "      <td>413.0</td>\n",
              "      <td>12.0</td>\n",
              "      <td>781.0</td>\n",
              "      <td>0.497409</td>\n",
              "      <td>1.0</td>\n",
              "      <td>0.677350</td>\n",
              "      <td>10.0</td>\n",
              "      <td>3.0</td>\n",
              "      <td>1.0</td>\n",
              "      <td>...</td>\n",
              "      <td>0.100000</td>\n",
              "      <td>1.00</td>\n",
              "      <td>-0.195701</td>\n",
              "      <td>-0.40</td>\n",
              "      <td>-0.071429</td>\n",
              "      <td>0.0</td>\n",
              "      <td>0.0</td>\n",
              "      <td>0.5</td>\n",
              "      <td>0.0</td>\n",
              "      <td>0</td>\n",
              "    </tr>\n",
              "    <tr>\n",
              "      <th>4</th>\n",
              "      <td>http://mashable.com/2014/02/11/parking-ticket-...</td>\n",
              "      <td>331.0</td>\n",
              "      <td>8.0</td>\n",
              "      <td>177.0</td>\n",
              "      <td>0.685714</td>\n",
              "      <td>1.0</td>\n",
              "      <td>0.830357</td>\n",
              "      <td>3.0</td>\n",
              "      <td>2.0</td>\n",
              "      <td>1.0</td>\n",
              "      <td>...</td>\n",
              "      <td>0.100000</td>\n",
              "      <td>0.55</td>\n",
              "      <td>-0.175000</td>\n",
              "      <td>-0.25</td>\n",
              "      <td>-0.100000</td>\n",
              "      <td>0.0</td>\n",
              "      <td>0.0</td>\n",
              "      <td>0.5</td>\n",
              "      <td>0.0</td>\n",
              "      <td>0</td>\n",
              "    </tr>\n",
              "  </tbody>\n",
              "</table>\n",
              "<p>5 rows × 61 columns</p>\n",
              "</div>\n",
              "      <button class=\"colab-df-convert\" onclick=\"convertToInteractive('df-51a34c49-2ea7-455e-aaea-fcb7a51c7671')\"\n",
              "              title=\"Convert this dataframe to an interactive table.\"\n",
              "              style=\"display:none;\">\n",
              "        \n",
              "  <svg xmlns=\"http://www.w3.org/2000/svg\" height=\"24px\"viewBox=\"0 0 24 24\"\n",
              "       width=\"24px\">\n",
              "    <path d=\"M0 0h24v24H0V0z\" fill=\"none\"/>\n",
              "    <path d=\"M18.56 5.44l.94 2.06.94-2.06 2.06-.94-2.06-.94-.94-2.06-.94 2.06-2.06.94zm-11 1L8.5 8.5l.94-2.06 2.06-.94-2.06-.94L8.5 2.5l-.94 2.06-2.06.94zm10 10l.94 2.06.94-2.06 2.06-.94-2.06-.94-.94-2.06-.94 2.06-2.06.94z\"/><path d=\"M17.41 7.96l-1.37-1.37c-.4-.4-.92-.59-1.43-.59-.52 0-1.04.2-1.43.59L10.3 9.45l-7.72 7.72c-.78.78-.78 2.05 0 2.83L4 21.41c.39.39.9.59 1.41.59.51 0 1.02-.2 1.41-.59l7.78-7.78 2.81-2.81c.8-.78.8-2.07 0-2.86zM5.41 20L4 18.59l7.72-7.72 1.47 1.35L5.41 20z\"/>\n",
              "  </svg>\n",
              "      </button>\n",
              "      \n",
              "  <style>\n",
              "    .colab-df-container {\n",
              "      display:flex;\n",
              "      flex-wrap:wrap;\n",
              "      gap: 12px;\n",
              "    }\n",
              "\n",
              "    .colab-df-convert {\n",
              "      background-color: #E8F0FE;\n",
              "      border: none;\n",
              "      border-radius: 50%;\n",
              "      cursor: pointer;\n",
              "      display: none;\n",
              "      fill: #1967D2;\n",
              "      height: 32px;\n",
              "      padding: 0 0 0 0;\n",
              "      width: 32px;\n",
              "    }\n",
              "\n",
              "    .colab-df-convert:hover {\n",
              "      background-color: #E2EBFA;\n",
              "      box-shadow: 0px 1px 2px rgba(60, 64, 67, 0.3), 0px 1px 3px 1px rgba(60, 64, 67, 0.15);\n",
              "      fill: #174EA6;\n",
              "    }\n",
              "\n",
              "    [theme=dark] .colab-df-convert {\n",
              "      background-color: #3B4455;\n",
              "      fill: #D2E3FC;\n",
              "    }\n",
              "\n",
              "    [theme=dark] .colab-df-convert:hover {\n",
              "      background-color: #434B5C;\n",
              "      box-shadow: 0px 1px 3px 1px rgba(0, 0, 0, 0.15);\n",
              "      filter: drop-shadow(0px 1px 2px rgba(0, 0, 0, 0.3));\n",
              "      fill: #FFFFFF;\n",
              "    }\n",
              "  </style>\n",
              "\n",
              "      <script>\n",
              "        const buttonEl =\n",
              "          document.querySelector('#df-51a34c49-2ea7-455e-aaea-fcb7a51c7671 button.colab-df-convert');\n",
              "        buttonEl.style.display =\n",
              "          google.colab.kernel.accessAllowed ? 'block' : 'none';\n",
              "\n",
              "        async function convertToInteractive(key) {\n",
              "          const element = document.querySelector('#df-51a34c49-2ea7-455e-aaea-fcb7a51c7671');\n",
              "          const dataTable =\n",
              "            await google.colab.kernel.invokeFunction('convertToInteractive',\n",
              "                                                     [key], {});\n",
              "          if (!dataTable) return;\n",
              "\n",
              "          const docLinkHtml = 'Like what you see? Visit the ' +\n",
              "            '<a target=\"_blank\" href=https://colab.research.google.com/notebooks/data_table.ipynb>data table notebook</a>'\n",
              "            + ' to learn more about interactive tables.';\n",
              "          element.innerHTML = '';\n",
              "          dataTable['output_type'] = 'display_data';\n",
              "          await google.colab.output.renderOutput(dataTable, element);\n",
              "          const docLink = document.createElement('div');\n",
              "          docLink.innerHTML = docLinkHtml;\n",
              "          element.appendChild(docLink);\n",
              "        }\n",
              "      </script>\n",
              "    </div>\n",
              "  </div>\n",
              "  "
            ]
          },
          "metadata": {},
          "execution_count": 19
        }
      ],
      "source": [
        "# Lectura de la información de archivo .csv\n",
        "df = pd.read_csv('https://raw.githubusercontent.com/albahnsen/MIAD_ML_and_NLP/main/datasets/mashable.csv', index_col=0)\n",
        "df.head()"
      ]
    },
    {
      "cell_type": "code",
      "execution_count": null,
      "metadata": {
        "id": "ozBh9wkJo1Uj",
        "colab": {
          "base_uri": "https://localhost:8080/"
        },
        "outputId": "732a60d1-f4c8-4e60-c053-5d51d2f9dd77"
      },
      "outputs": [
        {
          "output_type": "execute_result",
          "data": {
            "text/plain": [
              "0.5"
            ]
          },
          "metadata": {},
          "execution_count": 20
        }
      ],
      "source": [
        "# Definición variable de interes y variables predictoras\n",
        "X = df.drop(['url', 'Popular'], axis=1)\n",
        "y = df['Popular']\n",
        "y.mean()"
      ]
    },
    {
      "cell_type": "code",
      "execution_count": null,
      "metadata": {
        "id": "lMcQUjjjo1Uk"
      },
      "outputs": [],
      "source": [
        "# División de la muestra en set de entrenamiento y prueba\n",
        "from sklearn.model_selection import train_test_split\n",
        "X_train, X_test, y_train, y_test = train_test_split(X, y, random_state=1)"
      ]
    },
    {
      "cell_type": "markdown",
      "metadata": {
        "id": "VK0KhA-Jo1Um"
      },
      "source": [
        "### Punto 6 - Árbol de decisión y regresión logística\n",
        "En la celda 6 construya un árbol de decisión y una regresión logística. Para el árbol calibre al menos un parámetro y evalúe el desempeño de cada modelo usando las métricas de Accuracy y F1-Score."
      ]
    },
    {
      "cell_type": "code",
      "execution_count": null,
      "metadata": {
        "id": "WyEesmLZo1Un",
        "colab": {
          "base_uri": "https://localhost:8080/",
          "height": 578
        },
        "outputId": "656a59ed-cf1c-40bf-8abe-1f7931e6e48c"
      },
      "outputs": [
        {
          "output_type": "display_data",
          "data": {
            "text/plain": [
              "<Figure size 432x288 with 1 Axes>"
            ],
            "image/png": "[encoded data removed]"
          },
          "metadata": {
            "needs_background": "light"
          }
        },
        {
          "output_type": "display_data",
          "data": {
            "text/plain": [
              "<Figure size 432x288 with 1 Axes>"
            ],
            "image/png": "[encoded data removed]"
          },
          "metadata": {
            "needs_background": "light"
          }
        },
        {
          "output_type": "stream",
          "name": "stdout",
          "text": [
            "Arbol Accuracy:  0.6373333333333333\n",
            "Arbol F1-Score:  0.6616915422885573\n"
          ]
        }
      ],
      "source": [
        "# Celda 6\n",
        "\n",
        "# Arbol de decisión\n",
        "# Lista de valores para calibrar el criterio de parada de máxima profundidad (max_depth)\n",
        "max_depth_range = range(1, 21)\n",
        "\n",
        "# Lista para guardar los valores del RMSE para cada valor de máxima profundidad (max_depth)\n",
        "accuracy_clftree = []\n",
        "f1_clftree = []\n",
        "\n",
        "# Loop para obtener el desempeño del modelo de acuerdo con la máxima profundidad\n",
        "for depth in max_depth_range:\n",
        "    # Definición del árbol de decisión usando DecisionTreeClassifier de la libreria sklearn\n",
        "    clftree = DecisionTreeClassifier(max_depth=depth, random_state=1)\n",
        "    # Entrenar arbol\n",
        "    clftree.fit(X_train, y_train)\n",
        "    # Predecir\n",
        "    y_pred_arbol = clftree.predict(X_test)\n",
        "    accuracy_clftree.append(metrics.accuracy_score(y_pred_arbol, y_test))\n",
        "    f1_clftree.append(metrics.f1_score(y_pred_arbol, y_test))\n",
        "\n",
        "# Gráfica max_depth versus metricas\n",
        "plt.plot(max_depth_range, accuracy_clftree)\n",
        "plt.xlabel('max_depth')\n",
        "plt.ylabel('Accuracy')\n",
        "plt.show()\n",
        "\n",
        "plt.plot(max_depth_range, f1_clftree)\n",
        "plt.xlabel('max_depth')\n",
        "plt.ylabel('F1-Score')\n",
        "plt.show()\n",
        "\n",
        "print('Arbol Accuracy: ', accuracy_clftree[4])\n",
        "print('Arbol F1-Score: ', f1_clftree[4])"
      ]
    },
    {
      "cell_type": "code",
      "source": [
        "# Regresión Logistica\n",
        "# modelo LogReg\n",
        "logreg = LogisticRegression()\n",
        "# Entrenar modelo LogReg\n",
        "logreg.fit(X_train, y_train)\n",
        "# Predecir\n",
        "y_pred_logreg = logreg.predict(X_test)\n",
        "print('Regreción Logística Accuracy: ', metrics.accuracy_score(y_pred_logreg, y_test))\n",
        "print('Regreción Logística F1-Score: ', metrics.f1_score(y_pred_logreg, y_test))"
      ],
      "metadata": {
        "colab": {
          "base_uri": "https://localhost:8080/"
        },
        "id": "PWyAbbUdgXxA",
        "outputId": "3370839a-d6f7-4b00-e29c-2f3321b43b37"
      },
      "execution_count": null,
      "outputs": [
        {
          "output_type": "stream",
          "name": "stdout",
          "text": [
            "Regreción Logística Accuracy:  0.614\n",
            "Regreción Logística F1-Score:  0.6106254203093476\n"
          ]
        }
      ]
    },
    {
      "cell_type": "markdown",
      "source": [
        "Para el modelo del Arbol con un max_depth de 5 la métrica de accuracy es 0.637 y de F1-Score es 0.661.\n",
        "\n",
        "Para el modelo de Regresión Logistica la métrica de accuracy es 0.614 y de F1-Score es 0.610."
      ],
      "metadata": {
        "id": "-I12At-1iPc0"
      }
    },
    {
      "cell_type": "markdown",
      "metadata": {
        "id": "A-Ct6afMo1Uo"
      },
      "source": [
        "### Punto 7 - Votación Mayoritaria\n",
        "En la celda 7 elabore un esamble con la metodología de **Votación mayoritaria** compuesto por 300 muestras bagged para cada uno de los siguientes escenarios:\n",
        "\n",
        "-100 árboles de decisión donde max_depth = None\\\n",
        "-100 árboles de decisión donde max_depth = 2\\\n",
        "-100 regresiones logísticas\n",
        "\n",
        "Evalúe los modelos utilizando las métricas de Accuracy y F1-Score."
      ]
    },
    {
      "cell_type": "code",
      "execution_count": null,
      "metadata": {
        "id": "1VsApevgo1Up",
        "colab": {
          "base_uri": "https://localhost:8080/"
        },
        "outputId": "5ad64484-27dd-4cfc-8ec4-2d973d5ecaf9"
      },
      "outputs": [
        {
          "output_type": "stream",
          "name": "stdout",
          "text": [
            "Votación mayoritaria escenario 1 F1-Score: 0.6567567567567568 Accuracy: 0.6613333333333333\n"
          ]
        }
      ],
      "source": [
        "# Celda 7\n",
        "# Definición del modelo BaggingClassifier de la libreria sklearn\n",
        "# escenario 1: 100 árboles de decisión donde max_depth = None\n",
        "clfvotmay1 = BaggingClassifier(base_estimator=DecisionTreeClassifier(max_depth=None), max_samples=300,\n",
        "                               n_estimators=100, bootstrap=True, random_state=42, n_jobs=-1, oob_score=True)\n",
        "\n",
        "# Predicción y desempeño al hacer votación mayoritaria escenario 1\n",
        "clfvotmay1.fit(X_train, y_train)\n",
        "y_predvotmay1 = clfvotmay1.predict(X_test)\n",
        "print('Votación mayoritaria escenario 1 F1-Score:',metrics.f1_score(y_predvotmay1, y_test),\n",
        "      'Accuracy:', metrics.accuracy_score(y_predvotmay1, y_test))"
      ]
    },
    {
      "cell_type": "code",
      "source": [
        "# escenario 2: 100 árboles de decisión donde max_depth = 2\n",
        "clfvotmay2 = BaggingClassifier(base_estimator=DecisionTreeClassifier(max_depth=2), max_samples=300,\n",
        "                               n_estimators=100, bootstrap=True, random_state=42, n_jobs=-1, oob_score=True)\n",
        "\n",
        "# Predicción y desempeño al hacer votación mayoritaria escenario 1\n",
        "clfvotmay2.fit(X_train, y_train)\n",
        "y_predvotmay2 = clfvotmay2.predict(X_test)\n",
        "print('Votación mayoritaria escenario 2 F1-Score:',metrics.f1_score(y_predvotmay2, y_test),\n",
        "      'Accuracy:', metrics.accuracy_score(y_predvotmay2, y_test))"
      ],
      "metadata": {
        "colab": {
          "base_uri": "https://localhost:8080/"
        },
        "id": "Za0wbggTo5sz",
        "outputId": "f32be31d-b2af-4834-acd9-3d48b82be1b0"
      },
      "execution_count": null,
      "outputs": [
        {
          "output_type": "stream",
          "name": "stdout",
          "text": [
            "Votación mayoritaria escenario 2 F1-Score: 0.631578947368421 Accuracy: 0.6453333333333333\n"
          ]
        }
      ]
    },
    {
      "cell_type": "code",
      "source": [
        "# escenario 3: 100 regresiones logísticas\n",
        "clfvotmay3 = BaggingClassifier(base_estimator=LogisticRegression(), max_samples=300,\n",
        "                               n_estimators=100, bootstrap=True, random_state=42, n_jobs=-1, oob_score=True)\n",
        "\n",
        "# Predicción y desempeño al hacer votación mayoritaria escenario 1\n",
        "clfvotmay3.fit(X_train, y_train)\n",
        "y_predvotmay3 = clfvotmay3.predict(X_test)\n",
        "print('Votación mayoritaria escenario 3 F1-Score:',metrics.f1_score(y_predvotmay3, y_test),\n",
        "      'Accuracy:', metrics.accuracy_score(y_predvotmay3, y_test))"
      ],
      "metadata": {
        "colab": {
          "base_uri": "https://localhost:8080/"
        },
        "id": "41qlmljapel5",
        "outputId": "ed21f269-dcc3-4fce-b061-53255fa7ae04"
      },
      "execution_count": null,
      "outputs": [
        {
          "output_type": "stream",
          "name": "stdout",
          "text": [
            "Votación mayoritaria escenario 3 F1-Score: 0.6125760649087221 Accuracy: 0.618\n"
          ]
        }
      ]
    },
    {
      "cell_type": "code",
      "source": [
        "# Predicción para los datos del set de test con cada modelo y escenario\n",
        "y_pred_df_votmay = pd.DataFrame(index=X_test.index, columns=list(range(3)))\n",
        "y_pred_df_votmay.iloc[:, 0] = y_predvotmay1\n",
        "y_pred_df_votmay.iloc[:, 1] = y_predvotmay2\n",
        "y_pred_df_votmay.iloc[:, 2] = y_predvotmay3\n",
        "\n",
        "# Votación mayoritaria\n",
        "y_pred_votmay = (y_pred_df_votmay.sum(axis=1) >= (3 / 2)).astype(np.int)\n",
        "print('Votación mayoritaria F1-Score:',metrics.f1_score(y_pred_votmay, y_test),\n",
        "      'Accuracy:', metrics.accuracy_score(y_pred_votmay, y_test))"
      ],
      "metadata": {
        "colab": {
          "base_uri": "https://localhost:8080/"
        },
        "id": "tae3RTAXqlEz",
        "outputId": "b01eb466-4c0f-47dc-931b-e328496fba02"
      },
      "execution_count": null,
      "outputs": [
        {
          "output_type": "stream",
          "name": "stdout",
          "text": [
            "Votación mayoritaria F1-Score: 0.6368638239339752 Accuracy: 0.648\n"
          ]
        }
      ]
    },
    {
      "cell_type": "markdown",
      "source": [
        "#### Resultados votación mayoritaria:\n",
        "escenario 1 F1-Score: 0.6567 Accuracy: 0.6613\n",
        "\n",
        "escenario 2 F1-Score: 0.6315 Accuracy: 0.6453\n",
        "\n",
        "escenario 3 F1-Score: 0.6125 Accuracy: 0.618\n",
        "\n",
        "En este caso los mejores resultados los brinda el escenario 1"
      ],
      "metadata": {
        "id": "8z6ssw0OwS75"
      }
    },
    {
      "cell_type": "markdown",
      "metadata": {
        "id": "UY6jWfi3o1Uq"
      },
      "source": [
        "### Punto 8 - Votación Ponderada\n",
        "En la celda 8 elabore un ensamble con la metodología de **Votación ponderada** compuesto por 300 muestras bagged para los mismos tres escenarios del punto 7. Evalúe los modelos utilizando las métricas de Accuracy y F1-Score"
      ]
    },
    {
      "cell_type": "code",
      "execution_count": null,
      "metadata": {
        "id": "jhKogZp7o1Ur",
        "colab": {
          "base_uri": "https://localhost:8080/"
        },
        "outputId": "b845811e-5c19-49bb-d1bc-c37f43ee1dc6"
      },
      "outputs": [
        {
          "output_type": "stream",
          "name": "stdout",
          "text": [
            "Votación ponderada escenario 1 F1-Score: 0.6631087391594397 Accuracy: 0.6633333333333333\n"
          ]
        }
      ],
      "source": [
        "# Celda 8\n",
        "# Obtención de los pesos alpha de cada modelo de acuerdo al error OOB escenario 1\n",
        "errors = np.zeros(clfvotmay1.n_estimators)\n",
        "y_pred_all_ = np.zeros((X_test.shape[0], clfvotmay1.n_estimators))\n",
        "\n",
        "for i in range(clfvotmay1.n_estimators):\n",
        "    oob_sample = ~clfvotmay1.estimators_samples_[i]\n",
        "    y_pred_ = clfvotmay1.estimators_[i].predict(X_train.values[oob_sample])\n",
        "    errors[i] = metrics.accuracy_score(y_pred_, y_train.values[oob_sample])\n",
        "    y_pred_all_[:, i] = clfvotmay1.estimators_[i].predict(X_test)\n",
        "    \n",
        "alpha = (1 - errors) / (1 - errors).sum()\n",
        "y_pred_votpon1 = (np.sum(y_pred_all_ * alpha, axis=1) >= 0.5).astype(np.int)\n",
        "\n",
        "# Desempeño al hacer votación ponderada escenario 1\n",
        "print('Votación ponderada escenario 1 F1-Score:', metrics.f1_score(y_pred_votpon1, y_test),\n",
        "      'Accuracy:', metrics.accuracy_score(y_pred_votpon1, y_test))"
      ]
    },
    {
      "cell_type": "code",
      "source": [
        "# Obtención de los pesos alpha de cada modelo de acuerdo al error OOB escenario 2\n",
        "errors = np.zeros(clfvotmay2.n_estimators)\n",
        "y_pred_all_ = np.zeros((X_test.shape[0], clfvotmay2.n_estimators))\n",
        "\n",
        "for i in range(clfvotmay2.n_estimators):\n",
        "    oob_sample = ~clfvotmay2.estimators_samples_[i]\n",
        "    y_pred_ = clfvotmay2.estimators_[i].predict(X_train.values[oob_sample])\n",
        "    errors[i] = metrics.accuracy_score(y_pred_, y_train.values[oob_sample])\n",
        "    y_pred_all_[:, i] = clfvotmay2.estimators_[i].predict(X_test)\n",
        "    \n",
        "alpha = (1 - errors) / (1 - errors).sum()\n",
        "y_pred_votpon2 = (np.sum(y_pred_all_ * alpha, axis=1) >= 0.5).astype(np.int)\n",
        "\n",
        "# Desempeño al hacer votación ponderada escenario 1\n",
        "print('Votación ponderada escenario 2 F1-Score:', metrics.f1_score(y_pred_votpon2, y_test),\n",
        "      'Accuracy:', metrics.accuracy_score(y_pred_votpon2, y_test))"
      ],
      "metadata": {
        "colab": {
          "base_uri": "https://localhost:8080/"
        },
        "id": "iBxBIPk4wzoe",
        "outputId": "260eb00c-b74a-480b-95da-3f8682c09ef1"
      },
      "execution_count": null,
      "outputs": [
        {
          "output_type": "stream",
          "name": "stdout",
          "text": [
            "Votación ponderada escenario 2 F1-Score: 0.6324549237170597 Accuracy: 0.6466666666666666\n"
          ]
        }
      ]
    },
    {
      "cell_type": "code",
      "source": [
        "# Obtención de los pesos alpha de cada modelo de acuerdo al error OOB escenario 3\n",
        "errors = np.zeros(clfvotmay3.n_estimators)\n",
        "y_pred_all_ = np.zeros((X_test.shape[0], clfvotmay3.n_estimators))\n",
        "\n",
        "for i in range(clfvotmay3.n_estimators):\n",
        "    oob_sample = ~clfvotmay3.estimators_samples_[i]\n",
        "    y_pred_ = clfvotmay3.estimators_[i].predict(X_train.values[oob_sample])\n",
        "    errors[i] = metrics.accuracy_score(y_pred_, y_train.values[oob_sample])\n",
        "    y_pred_all_[:, i] = clfvotmay3.estimators_[i].predict(X_test)\n",
        "    \n",
        "alpha = (1 - errors) / (1 - errors).sum()\n",
        "y_pred_votpon3 = (np.sum(y_pred_all_ * alpha, axis=1) >= 0.5).astype(np.int)\n",
        "\n",
        "# Desempeño al hacer votación ponderada escenario 1\n",
        "print('Votación ponderada escenario 3 F1-Score:', metrics.f1_score(y_pred_votpon3, y_test),\n",
        "      'Accuracy:', metrics.accuracy_score(y_pred_votpon3, y_test))"
      ],
      "metadata": {
        "colab": {
          "base_uri": "https://localhost:8080/"
        },
        "id": "ap2f4hwSxP3N",
        "outputId": "0a4f2619-517e-4cf6-ba46-b147e49123a8"
      },
      "execution_count": null,
      "outputs": [
        {
          "output_type": "stream",
          "name": "stdout",
          "text": [
            "Votación ponderada escenario 3 F1-Score: 0.6181818181818182 Accuracy: 0.622\n"
          ]
        }
      ]
    },
    {
      "cell_type": "markdown",
      "source": [
        "#### Resultados votación ponderada:\n",
        "escenario 1 F1-Score: 0.6631 Accuracy: 0.6633\n",
        "\n",
        "escenario 2 F1-Score: 0.6324 Accuracy: 0.6466\n",
        "\n",
        "escenario 3 F1-Score: 0.6181 Accuracy: 0.622\n",
        "\n",
        "En este caso los mejores resultados los brinda el escenario 1"
      ],
      "metadata": {
        "id": "g7gkyc02wiC2"
      }
    },
    {
      "cell_type": "markdown",
      "metadata": {
        "id": "gWTrgjAyo1Us"
      },
      "source": [
        "### Punto 9 - Comparación y análisis de resultados\n",
        "En la celda 9 comente sobre los resultados obtenidos con las metodologías usadas en los puntos 7 y 8, compare los resultados y enuncie posibles ventajas o desventajas de cada una de ellas."
      ]
    },
    {
      "cell_type": "code",
      "execution_count": null,
      "metadata": {
        "id": "rBY5auVpo1Uu"
      },
      "outputs": [],
      "source": [
        "# Celda 9\n"
      ]
    },
    {
      "cell_type": "markdown",
      "source": [
        "### Resultados:\n",
        "\n",
        "#### Votación mayoritaria:\n",
        "escenario 1 F1-Score: 0.6567 Accuracy: 0.6613\n",
        "\n",
        "escenario 2 F1-Score: 0.6315 Accuracy: 0.6453\n",
        "\n",
        "escenario 3 F1-Score: 0.6125 Accuracy: 0.618\n",
        "\n",
        "#### Votación ponderada:\n",
        "escenario 1 F1-Score: 0.6631 Accuracy: 0.6633\n",
        "\n",
        "escenario 2 F1-Score: 0.6324 Accuracy: 0.6466\n",
        "\n",
        "escenario 3 F1-Score: 0.6181 Accuracy: 0.622\n",
        "\n",
        "En general se obtuvieron mejores resultados con la votación ponderada para cada uno de los 3 escenarios.\n",
        "\n",
        "En este caso la ventaja de la votación ponderada es que se obtienen mejores resultados.\n",
        "\n",
        "La desventaja de la votación ponderada es que implica pasos y procesamiento adicional y como en este caso la mejora de los resultados es pequeña en comparación con la votación mayoritaria, en los entornos donde la carga computacional sea una restricción es más ventajoso utilizar la votación mayoritaria.\n"
      ],
      "metadata": {
        "id": "1jyYRsO0yTlh"
      }
    }
  ],
  "metadata": {
    "kernelspec": {
      "display_name": "Python 3",
      "language": "python",
      "name": "python3"
    },
    "language_info": {
      "codemirror_mode": {
        "name": "ipython",
        "version": 3
      },
      "file_extension": ".py",
      "mimetype": "text/x-python",
      "name": "python",
      "nbconvert_exporter": "python",
      "pygments_lexer": "ipython3",
      "version": "3.7.3"
    },
    "colab": {
      "name": "17 S1TC1_arboles_ensamblajes.ipynb",
      "provenance": [],
      "collapsed_sections": []
    }
  },
  "nbformat": 4,
  "nbformat_minor": 0
}
