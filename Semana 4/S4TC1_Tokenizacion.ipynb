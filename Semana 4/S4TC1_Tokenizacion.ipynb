{
  "cells": [
    {
      "cell_type": "markdown",
      "metadata": {
        "id": "UvtV5ne199jW"
      },
      "source": [
        "![image info](https://raw.githubusercontent.com/albahnsen/MIAD_ML_and_NLP/main/images/banner_1.png)"
      ]
    },
    {
      "cell_type": "markdown",
      "metadata": {
        "id": "UJ6Bv1R999jy"
      },
      "source": [
        "# Taller: Tokenización de textos  \n",
        "\n",
        "En este taller podrán poner en práctica sus conocimientos sobre preprocesamiento de texto (tokenización). El taller está constituido por 5 puntos, en los cuales deberan seguir las intrucciones de cada numeral para su desarrollo."
      ]
    },
    {
      "cell_type": "markdown",
      "metadata": {
        "id": "5BwsJ9i499j4"
      },
      "source": [
        "## Datos detección de toxicidad en comentarios\n",
        "\n",
        "En este taller se usará el conjunto de datos de detección de toxicidad en comentarios de la base de datos de Kaggle. Cada observación es un comentario que tiene como variable objetivo (target) la probabilidad de ser un comentario tóxico. El objetivo es predecir la toxicidad de cada comentario. Para más detalles pueden visitar el siguiente enlace: [datos](https://www.kaggle.com/c/jigsaw-unintended-bias-in-toxicity-classification/data)."
      ]
    },
    {
      "cell_type": "code",
      "execution_count": null,
      "metadata": {
        "id": "lCQ1fqu999j9"
      },
      "outputs": [],
      "source": [
        "import warnings\n",
        "warnings.filterwarnings('ignore')"
      ]
    },
    {
      "cell_type": "code",
      "execution_count": null,
      "metadata": {
        "id": "To7Kwgzh99kG"
      },
      "outputs": [],
      "source": [
        "# Importación librerías\n",
        "import pandas as pd\n",
        "import numpy as np\n",
        "import matplotlib.pyplot as plt\n",
        "import scipy as sp\n",
        "from sklearn.model_selection import train_test_split, cross_val_score\n",
        "from sklearn.feature_extraction.text import CountVectorizer, TfidfVectorizer\n",
        "from sklearn.ensemble import RandomForestRegressor\n",
        "from sklearn import metrics\n",
        "%matplotlib inline"
      ]
    },
    {
      "cell_type": "code",
      "execution_count": null,
      "metadata": {
        "id": "_9dUdVP399kL",
        "outputId": "83a2a44b-44a9-42c1-f13d-4d2ca3462716",
        "colab": {
          "base_uri": "https://localhost:8080/",
          "height": 206
        }
      },
      "outputs": [
        {
          "output_type": "execute_result",
          "data": {
            "text/plain": [
              "        id                                       comment_text  target\n",
              "0  6101457  What are you talking about? What group do Pete...     0.0\n",
              "1  5342103   NO!, Let him, we need a Conservative government.     0.0\n",
              "2   743361  Perhaps he took the \"power out of the Cardinal...     0.2\n",
              "3   551008  As always, yours is dripping with sarcasm, whi...     0.0\n",
              "4   865998  The dirty little secret is that the price rang...     0.3"
            ],
            "text/html": [
              "\n",
              "  <div id=\"df-5eff077d-1d24-4e76-8776-5f15d756bb5e\">\n",
              "    <div class=\"colab-df-container\">\n",
              "      <div>\n",
              "<style scoped>\n",
              "    .dataframe tbody tr th:only-of-type {\n",
              "        vertical-align: middle;\n",
              "    }\n",
              "\n",
              "    .dataframe tbody tr th {\n",
              "        vertical-align: top;\n",
              "    }\n",
              "\n",
              "    .dataframe thead th {\n",
              "        text-align: right;\n",
              "    }\n",
              "</style>\n",
              "<table border=\"1\" class=\"dataframe\">\n",
              "  <thead>\n",
              "    <tr style=\"text-align: right;\">\n",
              "      <th></th>\n",
              "      <th>id</th>\n",
              "      <th>comment_text</th>\n",
              "      <th>target</th>\n",
              "    </tr>\n",
              "  </thead>\n",
              "  <tbody>\n",
              "    <tr>\n",
              "      <th>0</th>\n",
              "      <td>6101457</td>\n",
              "      <td>What are you talking about? What group do Pete...</td>\n",
              "      <td>0.0</td>\n",
              "    </tr>\n",
              "    <tr>\n",
              "      <th>1</th>\n",
              "      <td>5342103</td>\n",
              "      <td>NO!, Let him, we need a Conservative government.</td>\n",
              "      <td>0.0</td>\n",
              "    </tr>\n",
              "    <tr>\n",
              "      <th>2</th>\n",
              "      <td>743361</td>\n",
              "      <td>Perhaps he took the \"power out of the Cardinal...</td>\n",
              "      <td>0.2</td>\n",
              "    </tr>\n",
              "    <tr>\n",
              "      <th>3</th>\n",
              "      <td>551008</td>\n",
              "      <td>As always, yours is dripping with sarcasm, whi...</td>\n",
              "      <td>0.0</td>\n",
              "    </tr>\n",
              "    <tr>\n",
              "      <th>4</th>\n",
              "      <td>865998</td>\n",
              "      <td>The dirty little secret is that the price rang...</td>\n",
              "      <td>0.3</td>\n",
              "    </tr>\n",
              "  </tbody>\n",
              "</table>\n",
              "</div>\n",
              "      <button class=\"colab-df-convert\" onclick=\"convertToInteractive('df-5eff077d-1d24-4e76-8776-5f15d756bb5e')\"\n",
              "              title=\"Convert this dataframe to an interactive table.\"\n",
              "              style=\"display:none;\">\n",
              "        \n",
              "  <svg xmlns=\"http://www.w3.org/2000/svg\" height=\"24px\"viewBox=\"0 0 24 24\"\n",
              "       width=\"24px\">\n",
              "    <path d=\"M0 0h24v24H0V0z\" fill=\"none\"/>\n",
              "    <path d=\"M18.56 5.44l.94 2.06.94-2.06 2.06-.94-2.06-.94-.94-2.06-.94 2.06-2.06.94zm-11 1L8.5 8.5l.94-2.06 2.06-.94-2.06-.94L8.5 2.5l-.94 2.06-2.06.94zm10 10l.94 2.06.94-2.06 2.06-.94-2.06-.94-.94-2.06-.94 2.06-2.06.94z\"/><path d=\"M17.41 7.96l-1.37-1.37c-.4-.4-.92-.59-1.43-.59-.52 0-1.04.2-1.43.59L10.3 9.45l-7.72 7.72c-.78.78-.78 2.05 0 2.83L4 21.41c.39.39.9.59 1.41.59.51 0 1.02-.2 1.41-.59l7.78-7.78 2.81-2.81c.8-.78.8-2.07 0-2.86zM5.41 20L4 18.59l7.72-7.72 1.47 1.35L5.41 20z\"/>\n",
              "  </svg>\n",
              "      </button>\n",
              "      \n",
              "  <style>\n",
              "    .colab-df-container {\n",
              "      display:flex;\n",
              "      flex-wrap:wrap;\n",
              "      gap: 12px;\n",
              "    }\n",
              "\n",
              "    .colab-df-convert {\n",
              "      background-color: #E8F0FE;\n",
              "      border: none;\n",
              "      border-radius: 50%;\n",
              "      cursor: pointer;\n",
              "      display: none;\n",
              "      fill: #1967D2;\n",
              "      height: 32px;\n",
              "      padding: 0 0 0 0;\n",
              "      width: 32px;\n",
              "    }\n",
              "\n",
              "    .colab-df-convert:hover {\n",
              "      background-color: #E2EBFA;\n",
              "      box-shadow: 0px 1px 2px rgba(60, 64, 67, 0.3), 0px 1px 3px 1px rgba(60, 64, 67, 0.15);\n",
              "      fill: #174EA6;\n",
              "    }\n",
              "\n",
              "    [theme=dark] .colab-df-convert {\n",
              "      background-color: #3B4455;\n",
              "      fill: #D2E3FC;\n",
              "    }\n",
              "\n",
              "    [theme=dark] .colab-df-convert:hover {\n",
              "      background-color: #434B5C;\n",
              "      box-shadow: 0px 1px 3px 1px rgba(0, 0, 0, 0.15);\n",
              "      filter: drop-shadow(0px 1px 2px rgba(0, 0, 0, 0.3));\n",
              "      fill: #FFFFFF;\n",
              "    }\n",
              "  </style>\n",
              "\n",
              "      <script>\n",
              "        const buttonEl =\n",
              "          document.querySelector('#df-5eff077d-1d24-4e76-8776-5f15d756bb5e button.colab-df-convert');\n",
              "        buttonEl.style.display =\n",
              "          google.colab.kernel.accessAllowed ? 'block' : 'none';\n",
              "\n",
              "        async function convertToInteractive(key) {\n",
              "          const element = document.querySelector('#df-5eff077d-1d24-4e76-8776-5f15d756bb5e');\n",
              "          const dataTable =\n",
              "            await google.colab.kernel.invokeFunction('convertToInteractive',\n",
              "                                                     [key], {});\n",
              "          if (!dataTable) return;\n",
              "\n",
              "          const docLinkHtml = 'Like what you see? Visit the ' +\n",
              "            '<a target=\"_blank\" href=https://colab.research.google.com/notebooks/data_table.ipynb>data table notebook</a>'\n",
              "            + ' to learn more about interactive tables.';\n",
              "          element.innerHTML = '';\n",
              "          dataTable['output_type'] = 'display_data';\n",
              "          await google.colab.output.renderOutput(dataTable, element);\n",
              "          const docLink = document.createElement('div');\n",
              "          docLink.innerHTML = docLinkHtml;\n",
              "          element.appendChild(docLink);\n",
              "        }\n",
              "      </script>\n",
              "    </div>\n",
              "  </div>\n",
              "  "
            ]
          },
          "metadata": {},
          "execution_count": 3
        }
      ],
      "source": [
        "# Carga de datos de archivos .csv\n",
        "df = pd.read_csv('https://raw.githubusercontent.com/albahnsen/MIAD_ML_and_NLP/main/datasets/Toxicity.zip')\n",
        "df = df[['id','comment_text', 'target']]\n",
        "df.head()"
      ]
    },
    {
      "cell_type": "code",
      "execution_count": null,
      "metadata": {
        "id": "BOqV1-DN99kV",
        "outputId": "3d48c620-86df-4237-cd98-8c0194c32b5c",
        "colab": {
          "base_uri": "https://localhost:8080/",
          "height": 282
        }
      },
      "outputs": [
        {
          "output_type": "execute_result",
          "data": {
            "text/plain": [
              "<matplotlib.axes._subplots.AxesSubplot at 0x7f5e58a6bf90>"
            ]
          },
          "metadata": {},
          "execution_count": 4
        },
        {
          "output_type": "display_data",
          "data": {
            "text/plain": [
              "<Figure size 432x288 with 1 Axes>"
            ],
            "image/png": "[encoded data removed]"
          },
          "metadata": {
            "needs_background": "light"
          }
        }
      ],
      "source": [
        "# Impresión histograma de variable de interés (y)\n",
        "df.target.hist(bins=20)"
      ]
    },
    {
      "cell_type": "code",
      "execution_count": null,
      "metadata": {
        "id": "H6XD321b99kb",
        "outputId": "bb968192-9b2b-4660-e653-9cd318a056f6",
        "colab": {
          "base_uri": "https://localhost:8080/"
        }
      },
      "outputs": [
        {
          "output_type": "execute_result",
          "data": {
            "text/plain": [
              "count    541462.000000\n",
              "mean          0.102991\n",
              "std           0.196979\n",
              "min           0.000000\n",
              "25%           0.000000\n",
              "50%           0.000000\n",
              "75%           0.166667\n",
              "max           1.000000\n",
              "Name: target, dtype: float64"
            ]
          },
          "metadata": {},
          "execution_count": 5
        }
      ],
      "source": [
        "# Separación de variable de interés (y)\n",
        "y = df.target\n",
        "y.describe()"
      ]
    },
    {
      "cell_type": "code",
      "execution_count": null,
      "metadata": {
        "id": "nCBWP9Sf99kh"
      },
      "outputs": [],
      "source": [
        "# Separación de variables predictoras (X), solo se considera el texto de la noticia\n",
        "X = df.comment_text"
      ]
    },
    {
      "cell_type": "code",
      "execution_count": null,
      "metadata": {
        "id": "Wb2Di2iC99ko"
      },
      "outputs": [],
      "source": [
        "# Separación de datos en set de entrenamiento y test\n",
        "X_train, X_test, y_train, y_test = train_test_split(X, y, test_size=0.33, random_state=42)"
      ]
    },
    {
      "cell_type": "markdown",
      "metadata": {
        "id": "_CtetF3299ky"
      },
      "source": [
        "## Punto 1 - Tokenización con CountVectorizer\n",
        "\n",
        "En la celda 1 creen y entrenen el modelo de regresión de su preferencia, para que prediga la probabilidad de que un comentario sea tóxico, usando los set de entrenamiento y test definidos anteriormente. Usen la función **CountVectorizer** para preprocesar los comentarios y presenten el desempeño del modelo con la métrica del MSE.\n",
        "\n",
        "Recuerden que el preprocesamiento que se haga sobre los datos de entrenamiento  (*.fit_transform()*) deben ser aplicado al set de test (*.transform()*)."
      ]
    },
    {
      "cell_type": "code",
      "execution_count": null,
      "metadata": {
        "id": "Ox0MfxNO99k1",
        "colab": {
          "base_uri": "https://localhost:8080/"
        },
        "outputId": "02aa7f93-1039-4991-ff6f-d7cf0ea558aa"
      },
      "outputs": [
        {
          "output_type": "stream",
          "name": "stdout",
          "text": [
            "MSE unigrama 0.041187334653097346\n"
          ]
        }
      ],
      "source": [
        "# Celda 1\n",
        "# Creación de matrices de documentos usando CountVectorizer a partir de X\n",
        "# El vocabulario generado es muy extenso por lo que se decide utilizar las 50 primeras\n",
        "vect_A = CountVectorizer(stop_words='english', max_features=50, dtype=np.int8)\n",
        "X_dtm_A = vect_A.fit_transform(X_train)\n",
        "temp_A = X_dtm_A.todense()\n",
        "\n",
        "# Entrenamiento (fit) del modelo RandomForestRegressor\n",
        "regA = RandomForestRegressor()\n",
        "regA.fit(X_dtm_A, y_train)\n",
        "\n",
        "# transformar X_test\n",
        "X_test_dtm_A = vect_A.transform(X_test)\n",
        "temp_test_A = X_test_dtm_A.todense()\n",
        "\n",
        "# Predecir\n",
        "y_pred = regA.predict(temp_test_A)\n",
        "\n",
        "# Mide desempeño\n",
        "mse_A = metrics.mean_squared_error(y_pred, y_test.values)\n",
        "print('MSE unigrama', mse_A)"
      ]
    },
    {
      "cell_type": "markdown",
      "metadata": {
        "id": "6-yd98Z899k4"
      },
      "source": [
        "## Punto 2 - Tokenización con CountVectorizer y trigramas\n",
        "\n",
        "En la celda 2 creen y entrenen el mismo modelo de regresión del punto anterior (es decir si usaron un RandomForestRegresor usen nuevamente ese regresor), para que prediga la probabilidad de que un comentario sea tóxico, usando los set de entrenamiento y test definidos anteriormente. Usen la función CountVectorizer **considerando trigramas** para preprocesar los comentarios y presenten el desempeño del modelo con la métrica del MSE.\n",
        "\n",
        "Recuerden que el preprocesamiento que se haga sobre los datos de entrenamiento  (*.fit_transform()*) deben ser aplicado al set de test (*.transform()*)."
      ]
    },
    {
      "cell_type": "code",
      "execution_count": null,
      "metadata": {
        "id": "OwSO0gpf99k7",
        "colab": {
          "base_uri": "https://localhost:8080/"
        },
        "outputId": "96eee646-be94-4a15-8a74-48bac237f545"
      },
      "outputs": [
        {
          "output_type": "stream",
          "name": "stdout",
          "text": [
            "MSE trigrama 0.038978141677870726\n"
          ]
        }
      ],
      "source": [
        "# Celda 2\n",
        "vect_B = CountVectorizer(stop_words='english', max_features=50, ngram_range=(3, 3))\n",
        "X_dtm_B = vect_B.fit_transform(X_train)\n",
        "temp_B = X_dtm_B.todense()\n",
        "\n",
        "# Entrenamiento (fit) del modelo RandomForestRegressor\n",
        "regB = RandomForestRegressor()\n",
        "regB.fit(X_dtm_B, y_train)\n",
        "\n",
        "# transformar X_test\n",
        "X_test_dtm_B = vect_B.transform(X_test)\n",
        "temp_test_B = X_test_dtm_B.todense()\n",
        "\n",
        "# Predecir\n",
        "y_pred = regB.predict(temp_test_B)\n",
        "\n",
        "# Mide desempeño\n",
        "mse_B = metrics.mean_squared_error(y_pred, y_test.values)\n",
        "print('MSE trigrama', mse_B)"
      ]
    },
    {
      "cell_type": "markdown",
      "metadata": {
        "id": "WR5GZNM699k_"
      },
      "source": [
        "## Punto 3 - TfidfVectorizer\n",
        "\n",
        "Investigen sobre la función TfidfVectorizer. En la celda de texto 3, expliquen en qué consiste esta técnica de tokenización (describanla y expliquen su funcionamiento) y cúales son las ventajas o deventajas de su uso al compararlo con la función CountVectorizer."
      ]
    },
    {
      "cell_type": "markdown",
      "metadata": {
        "id": "6misBh9Z99lC"
      },
      "source": [
        "#Celda 3\n",
        "**TfidfVectorizer** utiliza la técnica **TF-IDF（Term Frequency-InversDocument Frequency）**, la cual es una técnica de ponderación que utiliza un método estadístico para calcular la importancia de una palabra en todo el corpus en función del número de veces que la palabra aparece en el texto y la frecuencia de los documentos que aparecen en todo el corpus. Su ventaja es que puede filtrar algunas palabras comunes pero irrelevantes, mientras retiene palabras importantes que afectan todo el texto.\n",
        "\n",
        "## Componentes\n",
        "**TF（Term Frequency）**: Indica la frecuencia de una palabra clave en todo el artículo.\n",
        "\n",
        "**IDF（Inverse Document Frequency）**: Calcula la frecuencia del texto invertido. La frecuencia del texto se refiere al número de veces que aparece una palabra clave en todos los artículos de todo el corpus. Se utiliza principalmente para reducir el efecto de algunas palabras comunes en todos los documentos que tienen poco efecto en el documento.\n",
        "\n",
        "## Método de cálculo\n",
        "El **TF-IDF** se calcula multiplicando el componente local (frecuencia de palabras) y el componente global (frecuencia de documento inversa), y el documento resultante se normaliza a la longitud de la unidad. Cuanto mayor sea la importancia de una palabra para un artículo, mayor será su valor **TF-IDF**. Por lo tanto, las primeras palabras son las palabras clave de este artículo.\n",
        "\n",
        "Fuente: https://programmerclick.com/article/7138217210/\n"
      ]
    },
    {
      "cell_type": "markdown",
      "metadata": {
        "id": "5vvcMPxs99lF"
      },
      "source": [
        "## Punto 4 - Tokenización con TfidfVectorizer\n",
        "\n",
        "En la celda 4 creen y entrenen el mismo modelo de regresión del primer punto, para que prediga la probabilidad de que un comentario sea tóxico, usando los set de entrenamiento y test definidos anteriormente. Procesen los comentarios con la función **TfidfVectorizer** y presenten el desempeño del modelo con la métrica del MSE.\n",
        "\n",
        "Recuerden que el preprocesamiento que se haga sobre los datos de entrenamiento  (*.fit_transform()*) deben ser aplicado al set de test (*.transform()*)."
      ]
    },
    {
      "cell_type": "code",
      "execution_count": null,
      "metadata": {
        "id": "DrCmLlGx99lI",
        "colab": {
          "base_uri": "https://localhost:8080/"
        },
        "outputId": "38da4c9d-1904-4997-92ae-7e03b29ea230"
      },
      "outputs": [
        {
          "output_type": "stream",
          "name": "stdout",
          "text": [
            "MSE unigrama 0.0399979951746219\n",
            "MSE trigrama 0.038971544987900876\n"
          ]
        }
      ],
      "source": [
        "# Celda 4\n",
        "vect_C = TfidfVectorizer(stop_words='english', max_features=50)\n",
        "X_dtm_C = vect_C.fit_transform(X_train)\n",
        "temp_C = X_dtm_C.todense()\n",
        "\n",
        "# Entrenamiento (fit) del modelo RandomForestRegressor\n",
        "regC = RandomForestRegressor()\n",
        "regC.fit(X_dtm_C, y_train)\n",
        "\n",
        "# transformar X_test\n",
        "X_test_dtm_C = vect_C.transform(X_test)\n",
        "temp_test_C = X_test_dtm_C.todense()\n",
        "\n",
        "# Predecir\n",
        "y_pred = regC.predict(temp_test_C)\n",
        "\n",
        "# Mide desempeño\n",
        "mse_C = metrics.mean_squared_error(y_pred, y_test.values)\n",
        "print('MSE unigrama', mse_C)\n",
        "\n",
        "# Trigrama\n",
        "vect_D = TfidfVectorizer(stop_words='english', max_features=50, ngram_range=(3, 3))\n",
        "X_dtm_D = vect_D.fit_transform(X_train)\n",
        "temp_D = X_dtm_D.todense()\n",
        "\n",
        "# Entrenamiento (fit) del modelo RandomForestRegressor\n",
        "regD = RandomForestRegressor()\n",
        "regD.fit(X_dtm_D, y_train)\n",
        "\n",
        "# transformar X_test\n",
        "X_test_dtm_D = vect_D.transform(X_test)\n",
        "temp_test_D = X_test_dtm_D.todense()\n",
        "\n",
        "# Predecir\n",
        "y_pred = regD.predict(temp_test_D)\n",
        "\n",
        "# Mide desempeño\n",
        "mse_D = metrics.mean_squared_error(y_pred, y_test.values)\n",
        "print('MSE trigrama', mse_D)"
      ]
    },
    {
      "cell_type": "markdown",
      "metadata": {
        "id": "SEVbSwxi99lM"
      },
      "source": [
        "## Punto 5 - Comparación y análisis de resultados\n",
        "\n",
        "En la celda 5 comparen los resultados obtenidos de los diferentes modelos y comenten cómo el preprocesamiento de texto afecta el desempeño."
      ]
    },
    {
      "cell_type": "code",
      "execution_count": null,
      "metadata": {
        "id": "pK14yf8-99lO",
        "colab": {
          "base_uri": "https://localhost:8080/",
          "height": 352
        },
        "outputId": "b1368505-b925-48e9-c47c-25931348019e"
      },
      "outputs": [
        {
          "output_type": "display_data",
          "data": {
            "text/plain": [
              "<Figure size 432x288 with 1 Axes>"
            ],
            "image/png": "[encoded data removed]"
          },
          "metadata": {
            "needs_background": "light"
          }
        }
      ],
      "source": [
        "# Celda 5\n",
        "# Gráfica de los MSE de los modelos utilizados\n",
        "fig = plt.figure()\n",
        "ax = fig.add_axes([0,0,1,1])\n",
        "ax.set_title(\"Comparación de modelos Vectorizer con MSE\")\n",
        "ejeX = ['Count 1gram','Count 3gram' ,'Tfidf 1gram','Tfidf 3gram']\n",
        "ejeY = [round(mse_A,6), round(mse_B,6), round(mse_C,6), round(mse_D,6)]\n",
        "ax.bar(ejeX,ejeY)\n",
        "def addlabels(x,y,plotP):\n",
        "    for i in range(len(x)):\n",
        "        plotP.text(i,y[i],y[i])\n",
        "addlabels(ejeX,ejeY,plt)\n",
        "plt.show()"
      ]
    },
    {
      "cell_type": "markdown",
      "source": [
        "No fue posible desarrollar los modelos con todo el vocabulario de palabras debido a que la ejecución colapsaba la máquina, por lo que se decidió limitarlas con el hiperparámetro max_features=5 e irlo aumentando progresivamente hasta llegar a 50 en el que se encontró que mejoraba el MSE y tambien aumentaba el tiempo de ejecución pero era manejable.\n",
        "\n",
        "De los modelos evaluados se identifica que el peor desempeño lo presenta el modelo CountVectorizer con unigrama con un MSE de 0.041187.\n",
        "\n",
        "Al aplicar el modelo CountVectorizer con trigrama se obtiene una mejora con un MSE de 0.038978, ya que en este caso al utilizar conjuntos de tres palabras se esta obteniendo mayor información que se refleja en una mejor predicción de CountVectorizer.\n",
        "\n",
        "Al evaluar el modelo TfidfVectorizer con unigrama se obtuvo un MSE de 0.039998, el cual es mejor que el primer modelo de unigrama ya que con la técnica TF-IDF（Term Frequency-InversDocument Frequency）se filtran las palabras comunes pero irrelevantes, mientras retiene las palabras importantes que afectan a todo el texto, pero en este caso no mejora el MSE del anterior modelo con trigrama.\n",
        "\n",
        "Adicionalmetne se desarrolló el modelo TfidfVectorizer con trigrama obteniendo el mejor desempeño con un MSE de 0.038972, aunque su resultado es muy similar al anteior modelo con trigrama, por lo que en este caso se obtienen los mejores resultados de predicción utilizando trigramas con cualquiera de las dos técnicas de Counter o TfIdf."
      ],
      "metadata": {
        "id": "XnHfjBqku6FT"
      }
    }
  ],
  "metadata": {
    "kernelspec": {
      "display_name": "Python 3",
      "language": "python",
      "name": "python3"
    },
    "language_info": {
      "codemirror_mode": {
        "name": "ipython",
        "version": 3
      },
      "file_extension": ".py",
      "mimetype": "text/x-python",
      "name": "python",
      "nbconvert_exporter": "python",
      "pygments_lexer": "ipython3",
      "version": "3.7.3"
    },
    "name": "_merged",
    "colab": {
      "name": "S4TC1_Tokenizacion Daniel.ipynb",
      "provenance": []
    }
  },
  "nbformat": 4,
  "nbformat_minor": 0
}
